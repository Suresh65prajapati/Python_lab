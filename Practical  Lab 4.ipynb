{
 "cells": [
  {
   "cell_type": "code",
   "execution_count": 1,
   "id": "e56654a8",
   "metadata": {},
   "outputs": [
    {
     "name": "stdout",
     "output_type": "stream",
     "text": [
      "2D Array:\n",
      "[[0.20064204 0.56337608 0.01305539 0.60807553 0.69155868]\n",
      " [0.92359507 0.51972971 0.85854534 0.54424111 0.92399991]\n",
      " [0.62531695 0.70946933 0.51316039 0.88742421 0.39753721]\n",
      " [0.10315848 0.19149696 0.4139991  0.39152936 0.78010462]]\n",
      "\n",
      "Mean along the second axis:\n",
      "[0.41534154 0.75402223 0.62658162 0.3760577 ]\n",
      "\n",
      "Standard Deviation along the second axis:\n",
      "[0.2620254  0.1830156  0.16747331 0.23386726]\n",
      "\n",
      "Variance along the second axis:\n",
      "[0.06865731 0.03349471 0.02804731 0.0546939 ]\n"
     ]
    }
   ],
   "source": [
    "                      # Practical 4.1\n",
    "# Mean: The average value of the elements along the specified axis.\n",
    "\n",
    "# Standard Deviation: A measure of how spread out the numbers are in the array. It indicates the amount of variation or dispersion.\n",
    "\n",
    "# Variance: The square of the standard deviation, which provides a measure of how much the values in the array differ from the mean. \n",
    "\n",
    "import numpy as np\n",
    "\n",
    "# Generate a random 2D array (4 rows and 5 columns)\n",
    "arr_2d = np.random.rand(4, 5)\n",
    "\n",
    "# Compute the mean, standard deviation, and variance along the second axis (axis=1)\n",
    "\n",
    "# Axis 0: Refers to the vertical axis (downwards along rows). When performing operations along this axis, you compute statistics for each column.\n",
    "\n",
    "# Axis 1: Refers to the horizontal axis (across columns). When performing operations along this axis, you compute statistics for each row.\n",
    "\n",
    "mean_values = np.mean(arr_2d, axis=1)\n",
    "std_deviation = np.std(arr_2d, axis=1)\n",
    "variance_values = np.var(arr_2d, axis=1)\n",
    "\n",
    "# Display the results\n",
    "print(\"2D Array:\")\n",
    "print(arr_2d)\n",
    "print(\"\\nMean along the second axis:\")\n",
    "print(mean_values)\n",
    "print(\"\\nStandard Deviation along the second axis:\")\n",
    "print(std_deviation)\n",
    "print(\"\\nVariance along the second axis:\")\n",
    "print(variance_values)\n"
   ]
  },
  {
   "cell_type": "code",
   "execution_count": 3,
   "id": "15573cec",
   "metadata": {},
   "outputs": [
    {
     "name": "stdout",
     "output_type": "stream",
     "text": [
      "Original array x: [0 1 5]\n",
      "Original array y: [3 1 0]\n",
      "Covariance matrix of x and y:\n",
      " [[ 7.         -3.5       ]\n",
      " [-3.5         2.33333333]]\n"
     ]
    }
   ],
   "source": [
    "                          # Practical 4.2\n",
    "    \n",
    "# Write a NumPy program to compute the covariance matrix of two given arrays.\n",
    "    \n",
    "# Importing the NumPy library\n",
    "import numpy as np\n",
    "\n",
    "# Creating two arrays\n",
    "x = np.array([0, 1, 5])\n",
    "y = np.array([3, 1, 0])\n",
    "\n",
    "# Displaying the original arrays\n",
    "print(\"Original array x:\", x)\n",
    "print(\"Original array y:\", y)\n",
    "\n",
    "# Calculating the covariance matrix of arrays x and y\n",
    "cov_matrix = np.cov(x, y)\n",
    "\n",
    "# Displaying the covariance matrix\n",
    "print(\"Covariance matrix of x and y:\\n\", cov_matrix)    "
   ]
  },
  {
   "cell_type": "code",
   "execution_count": 8,
   "id": "79ef9110",
   "metadata": {},
   "outputs": [
    {
     "name": "stdout",
     "output_type": "stream",
     "text": [
      "Occurrences using dictionary: {8: 1, 1: 1, 2: 2, 3: 1, 0: 1, 4: 1, -3: 2}\n"
     ]
    }
   ],
   "source": [
    "                      # Practical 4.3\n",
    "    \n",
    "# Write a Python program to count number of occurrences of each value in a given array of non-negative integers.\n",
    "\n",
    "# Function to count occurrences using a dictionary\n",
    "def count_occurrences(arr):\n",
    "    # Initialize an empty dictionary to store counts\n",
    "    counts = {}\n",
    "    \n",
    "    # Iterate through each number in the array\n",
    "    for num in arr:\n",
    "        if num in counts:\n",
    "            counts[num] += 1  # Increment count if number is already in dictionary\n",
    "        else:\n",
    "            counts[num] = 1   # Initialize count to 1 if number is not in dictionary\n",
    "            \n",
    "    return counts\n",
    "\n",
    "# Example array of non-negative integers\n",
    "array = [8, 1, 2, 2, 3, 0, 4, -3,-3]\n",
    "\n",
    "# Count occurrences and print the result\n",
    "occurr = count_occurrences(array)\n",
    "print(\"Occurrences using dictionary:\", occurr)"
   ]
  },
  {
   "cell_type": "code",
   "execution_count": 11,
   "id": "cb0d01d4",
   "metadata": {},
   "outputs": [
    {
     "name": "stdout",
     "output_type": "stream",
     "text": [
      " The 80th percentile for all element is :\n",
      " 48.0\n"
     ]
    }
   ],
   "source": [
    "                  # Practical 4.4\n",
    "# Write a NumPy program to compute the 80th percentile for all elements in a given array along the second axis.\n",
    " \n",
    "import numpy as np\n",
    "\n",
    "ages = [5,31,43,48,50,41,7,11,15,39,80,82,32,2,8,6,25,36,27,61,31]\n",
    "\n",
    "x = np.percentile(ages, 80)  # it is use for calculating the percentile score.\n",
    "\n",
    "print(\" The 80th percentile for all element is :\\n\",x)    "
   ]
  },
  {
   "cell_type": "code",
   "execution_count": null,
   "id": "80fc426c",
   "metadata": {},
   "outputs": [],
   "source": []
  },
  {
   "cell_type": "code",
   "execution_count": null,
   "id": "bb57ab99",
   "metadata": {},
   "outputs": [],
   "source": []
  }
 ],
 "metadata": {
  "kernelspec": {
   "display_name": "Python 3 (ipykernel)",
   "language": "python",
   "name": "python3"
  },
  "language_info": {
   "codemirror_mode": {
    "name": "ipython",
    "version": 3
   },
   "file_extension": ".py",
   "mimetype": "text/x-python",
   "name": "python",
   "nbconvert_exporter": "python",
   "pygments_lexer": "ipython3",
   "version": "3.11.5"
  }
 },
 "nbformat": 4,
 "nbformat_minor": 5
}

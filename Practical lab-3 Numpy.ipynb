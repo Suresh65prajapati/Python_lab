{
 "cells": [
  {
   "cell_type": "code",
   "execution_count": 26,
   "id": "d4b8c1e3",
   "metadata": {},
   "outputs": [
    {
     "data": {
      "text/plain": [
       "array([ 0.40001555,  0.94685964, -1.39278314, -0.54219764,  0.07976961])"
      ]
     },
     "execution_count": 26,
     "metadata": {},
     "output_type": "execute_result"
    }
   ],
   "source": [
    "                                           # Practical 3.1\n",
    "    \n",
    "# for generate the random variable of Normal distribution\n",
    "# Here are some technique to generate the random variable\n",
    "\n",
    "import numpy as np\n",
    "\n",
    "# loc is the mean (default = 0), scale is the standard deviation (default = 1)\n",
    "random_numbers = np.random.normal(loc=0, scale=1, size=5)\n",
    "\n",
    "# Step 2: Output the random numbers\n",
    "random_numbers\n"
   ]
  },
  {
   "cell_type": "code",
   "execution_count": 27,
   "id": "ff282eab",
   "metadata": {},
   "outputs": [
    {
     "name": "stdout",
     "output_type": "stream",
     "text": [
      "0.8117309942714108\n",
      "0.7879686299082969\n",
      "0.5374063613705801\n",
      "0.7524124421452889\n",
      "0.5327007341619864\n"
     ]
    }
   ],
   "source": [
    "import random as np\n",
    "\n",
    "# Generate a random floating point number between 0 and 1\n",
    "\n",
    "# for int only => np.randint(a,b)\n",
    "\n",
    "# for float only => np.uniform(a,b)\n",
    "\n",
    "# for Probability Distribution => np.random.choice(value,size=5,p=probability) where value and probability are given\n",
    "\n",
    "for i in range(5):\n",
    "    print(np.random())  # Uniform distribution"
   ]
  },
  {
   "cell_type": "code",
   "execution_count": 32,
   "id": "22db26e6",
   "metadata": {},
   "outputs": [
    {
     "name": "stdout",
     "output_type": "stream",
     "text": [
      "21\n",
      "24\n",
      "17\n",
      "25\n",
      "22\n",
      "16\n"
     ]
    }
   ],
   "source": [
    "                                       # Practical 3.2\n",
    "    \n",
    "# Write a NumPy program to generate six random integers between 10 and 30\n",
    "# # for int only => np.randint(a,b)\n",
    "import random as np\n",
    "for i in range(6):\n",
    "    print(np.randint(10,30))"
   ]
  },
  {
   "cell_type": "code",
   "execution_count": 53,
   "id": "d5f35f37",
   "metadata": {},
   "outputs": [
    {
     "name": "stdout",
     "output_type": "stream",
     "text": [
      " The array is given as : \n",
      " [[[0.48015923 0.30194844 0.81502449]\n",
      "  [0.14558427 0.0882735  0.51754801]\n",
      "  [0.31392142 0.72316919 0.08826195]]\n",
      "\n",
      " [[0.80361527 0.44213135 0.48957613]\n",
      "  [0.53464482 0.41251088 0.35233802]\n",
      "  [0.00187118 0.59416249 0.38994707]]\n",
      "\n",
      " [[0.61891155 0.65812558 0.91016328]\n",
      "  [0.90895655 0.14640325 0.33498686]\n",
      "  [0.98896588 0.35651229 0.01359986]]]\n"
     ]
    }
   ],
   "source": [
    "                                           # Practical 3.3\n",
    "    \n",
    "# Write a NumPy program to create a 3x3x3 array with random values.\n",
    "import numpy as np\n",
    "\n",
    "# There are four way to generate array matrix:\n",
    "\n",
    "#  np.random.randn(d0, d1, ..., dn) where d0,d1,d2...row & column, of normal distribution witn mean(0),S.D.(1)\n",
    "\n",
    "# np.random.randint(low, high, size) where within range and eg. size=3*3*3\n",
    "\n",
    "# np.random.random(size) for range[0.0,1.0] of any size\n",
    "\n",
    "\n",
    "#  np.random.rand(d0, d1, ..., dn) where d0,d1,d2...row & column filled with [0,1)\n",
    "\n",
    "# for creation of  3*3*3 array\n",
    "for i in range(27):\n",
    "      random_arr=np.random.rand(3,3,3)\n",
    "print(\" The array is given as : \\n\",random_arr)\n"
   ]
  },
  {
   "cell_type": "code",
   "execution_count": 97,
   "id": "4d8d020c",
   "metadata": {},
   "outputs": [
    {
     "name": "stdout",
     "output_type": "stream",
     "text": [
      "Generated Array :\n",
      " [[17 17 18 12 11]\n",
      " [11 18 18 10 13]\n",
      " [11 11 17 13 17]\n",
      " [19 16 16 15 18]\n",
      " [16 14 16 15 14]]\n",
      "19\n",
      "10\n"
     ]
    }
   ],
   "source": [
    "                                       # Practical 3.4\n",
    "\n",
    "    #. Write a NumPy program to create a 5x5 array with random values and find the minimum and maximum values.\n",
    "import numpy as np\n",
    "ran_arr=np.random.randint(10,20,(5,5)) # for generate the random number within the range\n",
    "print(\"Generated Array :\\n\",ran_arr)\n",
    "\n",
    "# for max\n",
    "max_num= np.max(ran_arr)\n",
    "print(max_num)\n",
    "\n",
    "# for min\n",
    "min_num = np.min(ran_arr)\n",
    "print(min_num)\n",
    "\n"
   ]
  },
  {
   "cell_type": "code",
   "execution_count": 104,
   "id": "0d06b0e4",
   "metadata": {},
   "outputs": [
    {
     "name": "stdout",
     "output_type": "stream",
     "text": [
      "The random array is :\n",
      " [[0.72348203 0.99386444 0.50846948 0.64902862]\n",
      " [0.09592787 0.49359177 0.83491593 0.52249491]\n",
      " [0.53929572 0.38103359 0.95685712 0.61007635]\n",
      " [0.66515782 0.75743157 0.18802327 0.50717763]\n",
      " [0.20712143 0.73667884 0.32639523 0.82478973]\n",
      " [0.44895343 0.10150372 0.98055152 0.9980971 ]\n",
      " [0.64016881 0.38352273 0.59661155 0.81946244]\n",
      " [0.29466671 0.10246841 0.07723172 0.36026458]\n",
      " [0.45405702 0.27970182 0.94213738 0.80034947]\n",
      " [0.91691109 0.38276795 0.11013492 0.32394633]]\n",
      "The five extract row is :\n",
      " [[0.72348203 0.99386444 0.50846948 0.64902862]\n",
      " [0.09592787 0.49359177 0.83491593 0.52249491]\n",
      " [0.53929572 0.38103359 0.95685712 0.61007635]\n",
      " [0.66515782 0.75743157 0.18802327 0.50717763]\n",
      " [0.20712143 0.73667884 0.32639523 0.82478973]]\n"
     ]
    }
   ],
   "source": [
    "                                      # Practical 3.5\n",
    "    \n",
    "# Write a NumPy program to create a random 10x4 array and extract the first five rows of the array and store them into a variable.\n",
    "import numpy as np\n",
    "\n",
    "# for generating the random number of 10*4\n",
    "ran_arr=np.random.rand(10,4)  # It is use random generate within [0,1)\n",
    "print(\"The random array is :\\n\",ran_arr)\n",
    "\n",
    "# To extract the first five row so use indexing method\n",
    "print(\"The five extract row is :\\n\",ran_arr[:5])\n"
   ]
  },
  {
   "cell_type": "code",
   "execution_count": 3,
   "id": "f58c7757",
   "metadata": {},
   "outputs": [
    {
     "name": "stdout",
     "output_type": "stream",
     "text": [
      "Array 1: [0.37130153 0.85008223 0.02398708]\n",
      "Array 2: [0.27996434 0.50145214 0.39628731]\n",
      "Are the two arrays equal? False\n"
     ]
    }
   ],
   "source": [
    "                    # Practical 3.6\n",
    "#  Write a NumPy program to check two random arrays are equal or not.\n",
    "     \n",
    "import numpy as np\n",
    "\n",
    "# Generate two random arrays\n",
    "arr1 = np.random.rand(3)  # Random array of size 5\n",
    "arr2 = np.random.rand(3)  # Another random array of size 5\n",
    "\n",
    "# Check if the arrays are equal\n",
    "are_equal = np.array_equal(arr1, arr2)\n",
    "\n",
    "print(\"Array 1:\", arr1)\n",
    "\n",
    "print(\"Array 2:\", arr2)\n",
    "\n",
    "print(\"Are the two arrays equal?\", are_equal)\n",
    "    "
   ]
  },
  {
   "cell_type": "code",
   "execution_count": 6,
   "id": "d406f3e2",
   "metadata": {},
   "outputs": [
    {
     "name": "stdout",
     "output_type": "stream",
     "text": [
      " The random vector is :\n",
      " [0.69436003 0.53133104 0.23498197 0.44689058 0.69152692 0.3790842\n",
      " 0.35034633 0.47791685 0.44480057 0.66091257 0.7756736  0.01325127\n",
      " 0.88933997 0.90440513 0.48029724]\n",
      "Random Vector: [ 0.69436003  0.53133104  0.23498197  0.44689058  0.69152692  0.3790842\n",
      "  0.35034633  0.47791685  0.44480057  0.66091257  0.7756736   0.01325127\n",
      "  0.88933997 -1.          0.48029724]\n"
     ]
    }
   ],
   "source": [
    "                       # Practical 3.7\n",
    "# Write a NumPy program to create random vector of size 15 and replace the maximum value by -1.\n",
    "\n",
    "import numpy as np\n",
    "\n",
    "# Generate a random vector of size 15\n",
    "ran_vector = np.random.rand(15)\n",
    "print(\" The random vector is :\\n\",ran_vector)\n",
    "\n",
    "# Replace the maximum value with -1\n",
    "max_index = np.argmax(ran_vector)  # Get the index of the maximum value\n",
    "ran_vector[max_index] = -1  # Replace it with -1 giving it indexing.\n",
    "\n",
    "print(\"Random Vector:\", ran_vector)\n",
    "    "
   ]
  },
  {
   "cell_type": "code",
   "execution_count": null,
   "id": "d68d09ee",
   "metadata": {},
   "outputs": [],
   "source": []
  }
 ],
 "metadata": {
  "kernelspec": {
   "display_name": "Python 3 (ipykernel)",
   "language": "python",
   "name": "python3"
  },
  "language_info": {
   "codemirror_mode": {
    "name": "ipython",
    "version": 3
   },
   "file_extension": ".py",
   "mimetype": "text/x-python",
   "name": "python",
   "nbconvert_exporter": "python",
   "pygments_lexer": "ipython3",
   "version": "3.11.5"
  }
 },
 "nbformat": 4,
 "nbformat_minor": 5
}

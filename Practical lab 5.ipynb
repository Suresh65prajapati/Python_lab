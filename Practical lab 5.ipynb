{
 "cells": [
  {
   "cell_type": "code",
   "execution_count": 5,
   "id": "965dc32e",
   "metadata": {},
   "outputs": [
    {
     "name": "stdout",
     "output_type": "stream",
     "text": [
      "Array1:\n",
      " ['Radhika' 'Payal' 'Diya']\n",
      "Array2:\n",
      " [' Jasmine' ' Chandrakala' 'Snem']\n",
      "New array:\n",
      " ['Radhika Jasmine' 'Payal Chandrakala' 'DiyaSnem']\n"
     ]
    }
   ],
   "source": [
    "                  # Practical 5.1\n",
    "# . Write a NumPy program to concatenate element-wise two arrays of string.\n",
    "\n",
    "import numpy as np\n",
    "\n",
    "# Creating two NumPy arrays with string elements\n",
    "x1 = np.array(('Radhika', 'Payal','Diya'), dtype=str)\n",
    "x2 = np.array((' Jasmine', ' Chandrakala','Snem'), dtype=str)\n",
    "\n",
    "# Displaying the contents of Array1\n",
    "print(\"Array1:\\n\",x1)\n",
    "\n",
    "# Displaying the contents of Array2\n",
    "print(\"Array2:\\n\",x2)\n",
    "\n",
    "\n",
    "# Concatenating the strings element-wise between x1 and x2 using np.char.add function\n",
    "new_array = np.char.add(x1, x2)\n",
    "\n",
    "# Displaying the new array formed by concatenating elements from x1 and x2\n",
    "print(\"New array:\\n\",new_array)\n",
    "\n",
    "    "
   ]
  },
  {
   "cell_type": "code",
   "execution_count": 7,
   "id": "e27ba806",
   "metadata": {},
   "outputs": [
    {
     "name": "stdout",
     "output_type": "stream",
     "text": [
      "Original array:\n",
      " ['Aadi' 'Don' 'Love']\n",
      "Array with repeated elements:\n",
      " ['Aadi' 'Aadi' 'Aadi' 'Don' 'Don' 'Don' 'Love' 'Love' 'Love']\n"
     ]
    }
   ],
   "source": [
    "                   # Practical 5.2\n",
    "\n",
    "#Write a NumPy program to repeat all the elements three times of a given array of string\n",
    "\n",
    "import numpy as np\n",
    "\n",
    "# Creating a NumPy array with string elements\n",
    "original_array = np.array(('Aadi', 'Don', 'Love'))\n",
    "\n",
    "# Displaying the original array\n",
    "\n",
    "print(\"Original array:\\n\",original_array)\n",
    "\n",
    "# Repeating each element three times\n",
    "\n",
    "repeated_array = np.repeat(original_array, 3)\n",
    "\n",
    "# Displaying the new array with repeated elements\n",
    "\n",
    "print(\"Array with repeated elements:\\n\",repeated_array)\n",
    "\n"
   ]
  },
  {
   "cell_type": "code",
   "execution_count": 8,
   "id": "3338903a",
   "metadata": {},
   "outputs": [
    {
     "name": "stdout",
     "output_type": "stream",
     "text": [
      "Original array:\n",
      " ['aadi' 'don' 'love']\n",
      "\n",
      "Capitalized (first letter uppercase): ['Aadi' 'Don' 'Love']\n",
      "\n",
      "Lowercase: ['aadi' 'don' 'love']\n",
      "\n",
      "Uppercase:\n",
      "['AADI' 'DON' 'LOVE']\n",
      "\n",
      "Swapcase: ['AADI' 'DON' 'LOVE']\n",
      "\n",
      "Title-case: ['Aadi' 'Don' 'Love']\n"
     ]
    }
   ],
   "source": [
    "                             # Practical 5.3\n",
    "# Write a NumPy program to capitalize the first letter, lowercase, uppercase, swapcase, title-case of all the elements of a given array.\n",
    "\n",
    "import numpy as np\n",
    "\n",
    "# Creating a NumPy array with string elements\n",
    "original_array = np.array(['aadi', 'don', 'love'])\n",
    "\n",
    "# Displaying the original array\n",
    "print(\"Original array:\\n\",original_array)\n",
    "\n",
    "\n",
    "# Capitalizing the first letter of each element\n",
    "capitalized_array = np.char.capitalize(original_array)\n",
    "print(\"\\nCapitalized (first letter uppercase):\",capitalized_array)\n",
    "\n",
    "\n",
    "# Converting all elements to lowercase\n",
    "lowercase_array = np.char.lower(original_array)\n",
    "print(\"\\nLowercase:\",lowercase_array)\n",
    "\n",
    "\n",
    "# Converting all elements to uppercase\n",
    "uppercase_array = np.char.upper(original_array)\n",
    "print(\"\\nUppercase:\")\n",
    "print(uppercase_array)\n",
    "\n",
    "# Swapping case of each element\n",
    "swapcase_array = np.char.swapcase(original_array)\n",
    "print(\"\\nSwapcase:\",swapcase_array)\n",
    "\n",
    "\n",
    "# Title-casing each element\n",
    "titlecase_array = np.char.title(original_array)\n",
    "print(\"\\nTitle-case:\",titlecase_array)\n"
   ]
  },
  {
   "cell_type": "code",
   "execution_count": 1,
   "id": "8c08d02c",
   "metadata": {},
   "outputs": [
    {
     "name": "stdout",
     "output_type": "stream",
     "text": [
      "Original array:\n",
      " ['aadi' 'don' 'love']\n",
      "\n",
      "Left-justified (padded with _): ['aadi___________' 'don____________' 'love___________']\n",
      "\n",
      "Right-justified (padded with _): ['___________aadi' '____________don' '___________love']\n",
      "\n",
      "Centered (padded with _): ['______aadi_____' '______don______' '______love_____']\n"
     ]
    }
   ],
   "source": [
    "                           # Practical 5.4\n",
    "#  Write a NumPy program to make the length of each element 15 of a given array and the string centered / left-justified / right-justified with paddings of _.\n",
    "\n",
    "import numpy as np\n",
    "\n",
    "# Creating a NumPy array with string elements\n",
    "original_array = np.array(['aadi', 'don', 'love'])\n",
    "\n",
    "# Displaying the original array\n",
    "print(\"Original array:\\n\",original_array)\n",
    "\n",
    "\n",
    "# Left-justifying with padding\n",
    "left_justified = np.char.ljust(original_array, 15, '_')\n",
    "print(\"\\nLeft-justified (padded with _):\",left_justified)\n",
    "\n",
    "\n",
    "# Right-justifying with padding\n",
    "right_justified = np.char.rjust(original_array, 15, '_')\n",
    "print(\"\\nRight-justified (padded with _):\",right_justified)\n",
    "\n",
    "\n",
    "# Center-justifying with padding\n",
    "centered = np.char.center(original_array, 15, '_')\n",
    "print(\"\\nCentered (padded with _):\",centered)\n"
   ]
  },
  {
   "cell_type": "code",
   "execution_count": null,
   "id": "10167a40",
   "metadata": {},
   "outputs": [],
   "source": []
  }
 ],
 "metadata": {
  "kernelspec": {
   "display_name": "Python 3 (ipykernel)",
   "language": "python",
   "name": "python3"
  },
  "language_info": {
   "codemirror_mode": {
    "name": "ipython",
    "version": 3
   },
   "file_extension": ".py",
   "mimetype": "text/x-python",
   "name": "python",
   "nbconvert_exporter": "python",
   "pygments_lexer": "ipython3",
   "version": "3.11.5"
  }
 },
 "nbformat": 4,
 "nbformat_minor": 5
}

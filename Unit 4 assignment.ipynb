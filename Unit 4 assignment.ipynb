{
 "cells": [
  {
   "cell_type": "markdown",
   "id": "b6afc986",
   "metadata": {},
   "source": [
    "## Submitted by:\n",
    "\n",
    "# Name-Suresh Kumar Prajapati\n",
    "\n",
    "## Enroll.no. CUSB23022220008\n",
    "\n",
    "## Date: 10/10/2024\n",
    "\n",
    "## Assignment 4 rth Unit\n",
    "\n",
    "## Submitted to:\n",
    "\n",
    "# Dr. Indrajeet Kumar"
   ]
  },
  {
   "cell_type": "markdown",
   "id": "62bf8e5c",
   "metadata": {},
   "source": [
    "# 1. Pandas\n",
    "It is a package useful for data analysis and manipulation.\n",
    "\n",
    "Pandas provide an easy way to create, manipulate and wrangle the data. \n",
    "\n",
    "Pandas provide powerful and easy-to-use data structures, as well \n",
    "as the means to quickly perform operations on these structures. \n",
    "\n",
    "## Data scientist use Pandas for its following advantages.\n",
    "\n",
    "1: Easily handles missing data. \n",
    "\n",
    "2: It uses Series for one-dimensional data structure and DataFrame \n",
    "for multi-dimensional data structure.\n",
    "\n",
    "3: It provides an efficient way to slice the data.\n",
    "\n",
    "4: It provides a flexible way to merge, concatenate or reshape the data.\n",
    "\n",
    "## Data structure in Pandas\n",
    "\n",
    "1: Series\n",
    "2: Data Frame\n",
    "3: Panel\n",
    "\n",
    "# 2. DataFrame\n",
    "\n",
    "It is a two-dimensional object that is useful  in representing data in the form of rows and columns.  It is similar to a spreadsheet or an SQL table. This is the most commonly used pandas object. Once we store the data into the Dataframe, we can perform various operations that are useful in analyzing and understanding the data.\n",
    "\n",
    "## Properties of dataFrame\n",
    "\n",
    "1. A Dataframe has axes  (indices)-\n",
    "\n",
    "➢ Row index (axis=0) \n",
    "➢ Column index (axes=1)\n",
    "\n",
    "2. It is similar to a spreadsheet , whose row index is called index and \n",
    "column index is called column name.\n",
    "\n",
    "3. A Dataframe contains Heterogeneous data. \n",
    "\n",
    "4. A Dataframe Size is Mutable.\n",
    "\n",
    "5. A Dataframe Data is Mutable. \n",
    "\n",
    "#   A DataFrame can be created using any following -\n",
    "\n",
    "1: Series\n",
    "2: Lists\n",
    "3: Dictonary\n",
    "4: A numpy 2D array\n"
   ]
  },
  {
   "cell_type": "markdown",
   "id": "a2725e0c",
   "metadata": {},
   "source": [
    "## 2.1 To create a pandas dataframe by using series"
   ]
  },
  {
   "cell_type": "code",
   "execution_count": 1,
   "id": "1bd562f3",
   "metadata": {},
   "outputs": [
    {
     "name": "stdout",
     "output_type": "stream",
     "text": [
      "   ram_number  shyam_number\n",
      "p           2             1\n",
      "q           3             3\n",
      "r           8             5\n",
      "s           7             7\n"
     ]
    }
   ],
   "source": [
    "import pandas as pd \n",
    "\n",
    "# To initialize to dicts of Series\n",
    "point={'ram_number':pd.Series([2,3,8,7],index=['p','q','r','s']),\n",
    "       'shyam_number':pd.Series(range(1,9,2),index=['p','q','r','s'])}\n",
    "\n",
    "# To create a dataframe\n",
    "df=pd.DataFrame(point)\n",
    "print(df)"
   ]
  },
  {
   "cell_type": "markdown",
   "id": "dcfa2327",
   "metadata": {},
   "source": [
    "## 2.2 To create a dataframe by using Lists"
   ]
  },
  {
   "cell_type": "code",
   "execution_count": 2,
   "id": "3293b9e3",
   "metadata": {},
   "outputs": [
    {
     "name": "stdout",
     "output_type": "stream",
     "text": [
      "            0\n",
      "a       reyon\n",
      "b      ramlal\n",
      "c    ramjanak\n",
      "d      pradip\n",
      "e  jayprakash\n"
     ]
    }
   ],
   "source": [
    "# import pandas as pd\n",
    "import pandas as pd\n",
    "name=['reyon','ramlal','ramjanak','pradip','jayprakash']\n",
    "marks=[83,76,78,65,80]\n",
    "df=pd.DataFrame(name,index=[y for y in 'abcde'])\n",
    "print(df)"
   ]
  },
  {
   "cell_type": "markdown",
   "id": "8202d476",
   "metadata": {},
   "source": [
    "## 2.3 To create a dataframe by using dictonary and  ndarray/lists"
   ]
  },
  {
   "cell_type": "code",
   "execution_count": 3,
   "id": "fb4a515b",
   "metadata": {},
   "outputs": [
    {
     "name": "stdout",
     "output_type": "stream",
     "text": [
      "         Name  Marks%\n",
      "0       reyon      83\n",
      "1      ramlal      76\n",
      "2    ramjanak      78\n",
      "3      pradip      65\n",
      "4  jayprakash      80\n"
     ]
    }
   ],
   "source": [
    "import pandas as pd\n",
    "\n",
    "# To initialise data of lists.\n",
    "data={'Name':['reyon','ramlal','ramjanak','pradip','jayprakash'],\n",
    "    'Marks%':[83,76,78,65,80] }\n",
    "\n",
    "# To create the dataframe \n",
    "df=pd.DataFrame(data)\n",
    "print(df)\n"
   ]
  },
  {
   "cell_type": "code",
   "execution_count": 4,
   "id": "694ecd0c",
   "metadata": {},
   "outputs": [
    {
     "data": {
      "text/html": [
       "<div>\n",
       "<style scoped>\n",
       "    .dataframe tbody tr th:only-of-type {\n",
       "        vertical-align: middle;\n",
       "    }\n",
       "\n",
       "    .dataframe tbody tr th {\n",
       "        vertical-align: top;\n",
       "    }\n",
       "\n",
       "    .dataframe thead th {\n",
       "        text-align: right;\n",
       "    }\n",
       "</style>\n",
       "<table border=\"1\" class=\"dataframe\">\n",
       "  <thead>\n",
       "    <tr style=\"text-align: right;\">\n",
       "      <th></th>\n",
       "      <th>Name</th>\n",
       "      <th>Team</th>\n",
       "    </tr>\n",
       "  </thead>\n",
       "  <tbody>\n",
       "    <tr>\n",
       "      <th>0</th>\n",
       "      <td>Dhoni</td>\n",
       "      <td>CS</td>\n",
       "    </tr>\n",
       "    <tr>\n",
       "      <th>1</th>\n",
       "      <td>Yuvraj</td>\n",
       "      <td>KP</td>\n",
       "    </tr>\n",
       "    <tr>\n",
       "      <th>2</th>\n",
       "      <td>Suresh Raina</td>\n",
       "      <td>CSK</td>\n",
       "    </tr>\n",
       "  </tbody>\n",
       "</table>\n",
       "</div>"
      ],
      "text/plain": [
       "           Name Team\n",
       "0         Dhoni   CS\n",
       "1        Yuvraj   KP\n",
       "2  Suresh Raina  CSK"
      ]
     },
     "execution_count": 4,
     "metadata": {},
     "output_type": "execute_result"
    }
   ],
   "source": [
    "# DataFrame from Dictonary of series\n",
    "import pandas as pd\n",
    "name=pd.Series(['Dhoni','Yuvraj','Suresh Raina'])\n",
    "team=pd.Series(['CS','KP','CSK'])\n",
    "dic={'Name':name,'Team':team}\n",
    "df=pd.DataFrame(dic)\n",
    "df"
   ]
  },
  {
   "cell_type": "markdown",
   "id": "d2eaf7d4",
   "metadata": {},
   "source": [
    "## 2.4 2D Numpy array"
   ]
  },
  {
   "cell_type": "code",
   "execution_count": 6,
   "id": "1bf72661",
   "metadata": {},
   "outputs": [
    {
     "name": "stdout",
     "output_type": "stream",
     "text": [
      "   A  B\n",
      "0  1  4\n",
      "1  2  3\n",
      "2  6  8\n"
     ]
    }
   ],
   "source": [
    "import pandas as pd\n",
    "import numpy as np\n",
    "arr=np.array([[1,4],[2,3],[6,8]])\n",
    "df=pd.DataFrame(arr,columns=['A','B'])\n",
    "print(df)"
   ]
  },
  {
   "cell_type": "code",
   "execution_count": 1,
   "id": "480189c3",
   "metadata": {},
   "outputs": [
    {
     "name": "stdout",
     "output_type": "stream",
     "text": [
      "   A  B  C\n",
      "0  1  2  3\n",
      "1  4  5  6\n",
      "2  7  8  9\n"
     ]
    }
   ],
   "source": [
    "import pandas as pd\n",
    "\n",
    "# Create a 2D list\n",
    "data = [[1, 2, 3], [4, 5, 6], [7, 8, 9]]\n",
    "\n",
    "# Convert the 2D list into a DataFrame\n",
    "df = pd.DataFrame(data, columns=['A', 'B', 'C'])\n",
    "\n",
    "print(df)\n"
   ]
  },
  {
   "cell_type": "code",
   "execution_count": null,
   "id": "ec065b50",
   "metadata": {},
   "outputs": [],
   "source": [
    "#  head():  Returns the first n rows. \n",
    "#  tail():  Returns the last n rows. \n",
    "#  info():  Provides a summary of the DataFrame. \n",
    "#  describe():  Generates descriptive statistics. \n",
    "#  sort_values():  Sorts the DataFrame by specified columns. \n",
    "#  groupby():  Groups the DataFrame using a mapper or by series of columns.\n",
    "#  merge():  Merges DataFrame or named series objects with a database-style join. \n",
    "#  apply():  Applies a function along the axis of the DataFrame. \n",
    "#  drop():  Removes specified labels from rows\n",
    "#  pivot_table():  Creates a pivot table. \n",
    "#  fillna(): Fills NA/NaN values. \n",
    "#  isnull():  Detects missing values.    "
   ]
  },
  {
   "cell_type": "markdown",
   "id": "57fece33",
   "metadata": {},
   "source": [
    "# 3. Python Pandas Series\n",
    "\n",
    "Pandas series is one-dimensional labeled arrary capable of holding data of \n",
    "\n",
    "any type (integer,string,float,python objects,etc)\n"
   ]
  },
  {
   "cell_type": "code",
   "execution_count": 2,
   "id": "4073cd81",
   "metadata": {},
   "outputs": [
    {
     "name": "stdout",
     "output_type": "stream",
     "text": [
      "Empty DataFrame\n",
      "Columns: []\n",
      "Index: []\n"
     ]
    }
   ],
   "source": [
    "# To create DataFrame from Series\n",
    "import pandas as pd\n",
    "df=pd.DataFrame()\n",
    "print(df)"
   ]
  },
  {
   "cell_type": "markdown",
   "id": "9924f2da",
   "metadata": {},
   "source": [
    "##  1:- Create a Pandas Series:\n",
    "\n",
    "Series Object>=pandas.Series (data, index=idx (optional))\n",
    "\n",
    "Python sequence (Lists,ndarray,scalar value, or a python dictionary)"
   ]
  },
  {
   "cell_type": "markdown",
   "id": "9d529c56",
   "metadata": {},
   "source": [
    "## (a) Creating a series from array"
   ]
  },
  {
   "cell_type": "code",
   "execution_count": 3,
   "id": "4d2b0882",
   "metadata": {},
   "outputs": [
    {
     "name": "stdout",
     "output_type": "stream",
     "text": [
      "0    4\n",
      "1    5\n",
      "2    1\n",
      "3    8\n",
      "4    9\n",
      "5    0\n",
      "dtype: int32\n"
     ]
    }
   ],
   "source": [
    "# How to create Series with nd array\n",
    "import pandas as pd\n",
    "import numpy as np\n",
    "\n",
    "# simple array\n",
    "arr=np.array([4,5,1,8,9,0])\n",
    "s=pd.Series(arr)\n",
    "print(s)"
   ]
  },
  {
   "cell_type": "markdown",
   "id": "a6105183",
   "metadata": {},
   "source": [
    "## (b) Creating a series from lists"
   ]
  },
  {
   "cell_type": "code",
   "execution_count": 4,
   "id": "9da959f1",
   "metadata": {},
   "outputs": [
    {
     "name": "stdout",
     "output_type": "stream",
     "text": [
      "0    a\n",
      "1    b\n",
      "2    c\n",
      "3    d\n",
      "4    e\n",
      "dtype: object\n"
     ]
    }
   ],
   "source": [
    "import pandas as pd\n",
    "import numpy as np\n",
    "\n",
    "# a simple list\n",
    "list=['a','b','c','d','e']\n",
    "\n",
    "# Create a series from list\n",
    "list_series=pd.Series(list)\n",
    "print(list_series)\n"
   ]
  },
  {
   "cell_type": "code",
   "execution_count": 5,
   "id": "4a95ac03",
   "metadata": {},
   "outputs": [
    {
     "name": "stdout",
     "output_type": "stream",
     "text": [
      "first     4\n",
      "second    5\n",
      "third     1\n",
      "fourth    8\n",
      "fifth     9\n",
      "sixth     0\n",
      "dtype: int32\n"
     ]
    }
   ],
   "source": [
    "# To name the index\n",
    "s=pd.Series(arr,index=['first','second','third','fourth','fifth','sixth'])\n",
    "print(s)"
   ]
  },
  {
   "cell_type": "code",
   "execution_count": null,
   "id": "d00f99b3",
   "metadata": {},
   "outputs": [],
   "source": [
    "# To Create a series from Scalar value\n",
    "import pandas as pd\n",
    "s=pd.Series(-3,index=[0,1,2,3,4])\n",
    "print(s)"
   ]
  },
  {
   "cell_type": "markdown",
   "id": "0a805bab",
   "metadata": {},
   "source": [
    "##  (c) Creating a series from dictonary"
   ]
  },
  {
   "cell_type": "code",
   "execution_count": 6,
   "id": "09ff9997",
   "metadata": {},
   "outputs": [
    {
     "name": "stdout",
     "output_type": "stream",
     "text": [
      "Name                            Rajia Sultan\n",
      "Status            President of delhi capital\n",
      "Marital status                       Married\n",
      "dtype: object\n"
     ]
    }
   ],
   "source": [
    "# creating a Series from dictonary\n",
    "import pandas as pd\n",
    "\n",
    "# to create a dictonary\n",
    "frame={'Name':'Rajia Sultan','Status':'President of delhi capital','Marital status':'Married'}\n",
    "\n",
    "# To create a series\n",
    "s=pd.Series(frame)\n",
    "print(s)\n"
   ]
  },
  {
   "cell_type": "markdown",
   "id": "8a3d91fe",
   "metadata": {},
   "source": [
    "## (d) Creating a series using Numpy functions\n",
    "\n",
    "numpy.linspace(start,end,how_number), numpy.random.radn()"
   ]
  },
  {
   "cell_type": "code",
   "execution_count": 7,
   "id": "816b3af8",
   "metadata": {},
   "outputs": [
    {
     "name": "stdout",
     "output_type": "stream",
     "text": [
      "0     4.0\n",
      "1     6.0\n",
      "2     8.0\n",
      "3    10.0\n",
      "dtype: float64\n"
     ]
    }
   ],
   "source": [
    "import pandas as pd\n",
    "import numpy as np\n",
    "\n",
    "#  series with numpy linspace()\n",
    "ser1=pd.Series(np.linspace(4,10,4))\n",
    "print(ser1)"
   ]
  },
  {
   "cell_type": "markdown",
   "id": "d972136e",
   "metadata": {},
   "source": [
    "##  (e)Creating the series using range function:"
   ]
  },
  {
   "cell_type": "code",
   "execution_count": 8,
   "id": "d2679204",
   "metadata": {},
   "outputs": [
    {
     "name": "stdout",
     "output_type": "stream",
     "text": [
      "0    0\n",
      "1    1\n",
      "2    2\n",
      "3    3\n",
      "4    4\n",
      "dtype: int64\n"
     ]
    }
   ],
   "source": [
    "import pandas as pd\n",
    "ser2=pd.Series(range(5))\n",
    "print(ser2)"
   ]
  },
  {
   "cell_type": "markdown",
   "id": "3dc3f2db",
   "metadata": {},
   "source": [
    "## (f) Creating a Series using loop and list\n",
    "\n",
    "range(start,end,gap_number)"
   ]
  },
  {
   "cell_type": "code",
   "execution_count": 9,
   "id": "3be8ace2",
   "metadata": {},
   "outputs": [
    {
     "name": "stdout",
     "output_type": "stream",
     "text": [
      "r    1\n",
      "e    3\n",
      "y    5\n",
      "o    7\n",
      "n    9\n",
      "dtype: int64\n"
     ]
    }
   ],
   "source": [
    "import pandas as pd\n",
    "ser3=pd.Series(range(1,10,2),index=[y for y in 'reyon'])\n",
    "print(ser3)"
   ]
  },
  {
   "cell_type": "markdown",
   "id": "99c162bf",
   "metadata": {},
   "source": [
    "## (g) Creating a Series usin mathematical expressions"
   ]
  },
  {
   "cell_type": "code",
   "execution_count": 10,
   "id": "7fab9e0f",
   "metadata": {},
   "outputs": [
    {
     "name": "stdout",
     "output_type": "stream",
     "text": [
      "r    0\n",
      "a    1\n",
      "j    2\n",
      "u    3\n",
      "dtype: int32\n"
     ]
    }
   ],
   "source": [
    "import numpy as np \n",
    "import pandas as pd\n",
    "ser4=np.arange(1,5)\n",
    "sub=pd.Series(data=ser4-1,index=[y for y in'raju'])\n",
    "print(sub)"
   ]
  },
  {
   "cell_type": "markdown",
   "id": "eecd8a5e",
   "metadata": {},
   "source": [
    "# 4. Selection in Series & indexing\n",
    "\n",
    "Series provides  index label loc and ilocand[] to access rows and columns\n",
    "\n",
    "Syntax:-series_name.loc[StartRange: StopRange] use for labels\n",
    "\n",
    "Syntax:-series_name.iloc[StartRange: StopRange] use for positions\n",
    "\n",
    "Syntax:-series_name.ix[StartRange: StopRange] \n"
   ]
  },
  {
   "cell_type": "code",
   "execution_count": 11,
   "id": "c39fbfe1",
   "metadata": {},
   "outputs": [
    {
     "name": "stdout",
     "output_type": "stream",
     "text": [
      "0    3\n",
      "1    4\n",
      "2    5\n",
      "3    9\n",
      "4    1\n",
      "5    0\n",
      "dtype: int32\n",
      "0    3\n",
      "1    4\n",
      "dtype: int32\n",
      "0    3\n",
      "1    4\n",
      "2    5\n",
      "3    9\n",
      "dtype: int32\n",
      "3    9\n",
      "4    1\n",
      "5    0\n",
      "dtype: int32\n"
     ]
    }
   ],
   "source": [
    "import numpy as np # import numpy as np\n",
    "import pandas as pd  # import pandas as pd\n",
    "arr=np.array([3,4,5,9,1,0]) # To gererate array\n",
    "s=pd.Series(arr)\n",
    "print(s)\n",
    "print(s.loc[:1])   # loc use for lebels\n",
    "print(s.loc[0:3])\n",
    "print(s.loc[3:5])"
   ]
  },
  {
   "cell_type": "code",
   "execution_count": 12,
   "id": "8753a465",
   "metadata": {},
   "outputs": [
    {
     "name": "stdout",
     "output_type": "stream",
     "text": [
      "0    3\n",
      "1    4\n",
      "2    5\n",
      "3    9\n",
      "4    1\n",
      "5    0\n",
      "dtype: int32\n",
      "0    3\n",
      "dtype: int32\n",
      "0    3\n",
      "1    4\n",
      "2    5\n",
      "dtype: int32\n",
      "3    9\n",
      "4    1\n",
      "dtype: int32\n"
     ]
    }
   ],
   "source": [
    "import numpy as np # import numpy as np\n",
    "import pandas as pd  # import pandas as pd\n",
    "print(s)\n",
    "print(s.iloc[:1]) # it is use for position\n",
    "print(s.iloc[0:3])\n",
    "print(s.iloc[3:5])"
   ]
  },
  {
   "cell_type": "markdown",
   "id": "31f3153a",
   "metadata": {},
   "source": [
    "\n"
   ]
  },
  {
   "cell_type": "markdown",
   "id": "c9bb6f69",
   "metadata": {},
   "source": [
    "## 4.1 indexing "
   ]
  },
  {
   "cell_type": "code",
   "execution_count": 13,
   "id": "fc95131b",
   "metadata": {},
   "outputs": [
    {
     "name": "stdout",
     "output_type": "stream",
     "text": [
      "           Name      SirName       index\n",
      "0        Suresh    Indrajeet  [Student1]\n",
      "1         Akash  Abha Tiwari  [Student2]\n",
      "2  Naveen singh      Sarnath  [Student3]\n",
      "       SirName       index\n",
      "0    Indrajeet  [Student1]\n",
      "1  Abha Tiwari  [Student2]\n",
      "2      Sarnath  [Student3]\n"
     ]
    }
   ],
   "source": [
    "# DataFrame from List of Dictonaries\n",
    "import pandas as pd\n",
    "l=[{'Name':'Suresh','SirName':'Indrajeet','index':['Student1']},{'Name':'Akash'\n",
    "        ,'SirName': 'Abha Tiwari','index':['Student2']},{'Name':'Naveen singh'\n",
    "                    ,'SirName':'Sarnath','index':['Student3']}]\n",
    "df1=pd.DataFrame(l)\n",
    "print(df1)\n",
    "\n",
    "# To use indexing method\n",
    "print(df1[['SirName','index']])"
   ]
  },
  {
   "cell_type": "markdown",
   "id": "47da7ccf",
   "metadata": {},
   "source": [
    "## 4.2 Iteration on Rows and Columns\n",
    "If we want to access record or data from a data frame row wise or \n",
    "column wise then iteration is used. Pandas provide 2 functions to \n",
    "perform iterations-\n",
    "\n",
    "1. iterrows () \n",
    "\n",
    "2. iteritems () "
   ]
  },
  {
   "cell_type": "code",
   "execution_count": 15,
   "id": "5fbbf025",
   "metadata": {},
   "outputs": [
    {
     "name": "stdout",
     "output_type": "stream",
     "text": [
      "           Name      SirName\n",
      "0        Suresh    Indrajeet\n",
      "1         Akash  Abha Tiwari\n",
      "2  Naveen singh     Sarnath \n",
      "\n",
      " Row index is : 0\n",
      "Name          Suresh\n",
      "SirName    Indrajeet\n",
      "Name: 0, dtype: object\n",
      "\n",
      " Row index is : 1\n",
      "Name             Akash\n",
      "SirName    Abha Tiwari\n",
      "Name: 1, dtype: object\n",
      "\n",
      " Row index is : 2\n",
      "Name       Naveen singh\n",
      "SirName        Sarnath \n",
      "Name: 2, dtype: object\n"
     ]
    }
   ],
   "source": [
    "# iterrows()\n",
    "import pandas as pd\n",
    "l=l=[{'Name':'Suresh','SirName':'Indrajeet'},{'Name':\n",
    "        'Akash','SirName':'Abha Tiwari'}\n",
    "  ,{'Name':'Naveen singh','SirName':'Sarnath '}]\n",
    "df1=pd.DataFrame(l)\n",
    "print(df1)\n",
    "for (row_index,row_value) in df1.iterrows():\n",
    "    print('\\n Row index is :',row_index)\n",
    "    print(row_value)"
   ]
  },
  {
   "cell_type": "code",
   "execution_count": 17,
   "id": "2a923c17",
   "metadata": {},
   "outputs": [
    {
     "name": "stdout",
     "output_type": "stream",
     "text": [
      "           Name      SirName\n",
      "0        Suresh    Indrajeet\n",
      "1         Akash  Abha Tiwari\n",
      "2  Naveen singh     Sarnath \n",
      "\n",
      "\n",
      "\n",
      " Column Name is : Name\n",
      "\n",
      " Column Values are: 0          Suresh\n",
      "1           Akash\n",
      "2    Naveen singh\n",
      "Name: Name, dtype: object\n",
      "\n",
      "\n",
      "\n",
      " Column Name is : SirName\n",
      "\n",
      " Column Values are: 0      Indrajeet\n",
      "1    Abha Tiwari\n",
      "2       Sarnath \n",
      "Name: SirName, dtype: object\n"
     ]
    }
   ],
   "source": [
    "# iteritems()\n",
    "#It is used to access the data column wise.\n",
    "\n",
    "import pandas as pd\n",
    "l=l=[{'Name':'Suresh','SirName':'Indrajeet'},\n",
    "     {'Name':'Akash','SirName':'Abha Tiwari'}\n",
    "  ,{'Name':'Naveen singh','SirName':'Sarnath '}]\n",
    "df1=pd.DataFrame(l)\n",
    "print(df1)\n",
    "for(col_name,col_value) in df1.items():\n",
    "    print('\\n')\n",
    "    print('\\n Column Name is :',col_name)\n",
    "    print('\\n Column Values are:',col_value)"
   ]
  },
  {
   "cell_type": "markdown",
   "id": "be865199",
   "metadata": {},
   "source": [
    "## 4.3 DataFrame indexing related operation"
   ]
  },
  {
   "cell_type": "code",
   "execution_count": 18,
   "id": "607442af",
   "metadata": {},
   "outputs": [
    {
     "data": {
      "text/html": [
       "<div>\n",
       "<style scoped>\n",
       "    .dataframe tbody tr th:only-of-type {\n",
       "        vertical-align: middle;\n",
       "    }\n",
       "\n",
       "    .dataframe tbody tr th {\n",
       "        vertical-align: top;\n",
       "    }\n",
       "\n",
       "    .dataframe thead th {\n",
       "        text-align: right;\n",
       "    }\n",
       "</style>\n",
       "<table border=\"1\" class=\"dataframe\">\n",
       "  <thead>\n",
       "    <tr style=\"text-align: right;\">\n",
       "      <th></th>\n",
       "      <th>ID</th>\n",
       "      <th>name</th>\n",
       "      <th>Doj</th>\n",
       "    </tr>\n",
       "  </thead>\n",
       "  <tbody>\n",
       "    <tr>\n",
       "      <th>0</th>\n",
       "      <td>100</td>\n",
       "      <td>ramya</td>\n",
       "      <td>12-01-2012</td>\n",
       "    </tr>\n",
       "    <tr>\n",
       "      <th>1</th>\n",
       "      <td>101</td>\n",
       "      <td>surya</td>\n",
       "      <td>11-04-2012</td>\n",
       "    </tr>\n",
       "    <tr>\n",
       "      <th>2</th>\n",
       "      <td>102</td>\n",
       "      <td>deepika</td>\n",
       "      <td>2-01-2012</td>\n",
       "    </tr>\n",
       "    <tr>\n",
       "      <th>3</th>\n",
       "      <td>103</td>\n",
       "      <td>radhika</td>\n",
       "      <td>7-01-2012</td>\n",
       "    </tr>\n",
       "    <tr>\n",
       "      <th>4</th>\n",
       "      <td>104</td>\n",
       "      <td>sakshi</td>\n",
       "      <td>12-08-2012</td>\n",
       "    </tr>\n",
       "    <tr>\n",
       "      <th>5</th>\n",
       "      <td>105</td>\n",
       "      <td>madhuri</td>\n",
       "      <td>25-09-2012</td>\n",
       "    </tr>\n",
       "  </tbody>\n",
       "</table>\n",
       "</div>"
      ],
      "text/plain": [
       "    ID     name         Doj\n",
       "0  100    ramya  12-01-2012\n",
       "1  101    surya  11-04-2012\n",
       "2  102  deepika   2-01-2012\n",
       "3  103  radhika   7-01-2012\n",
       "4  104   sakshi  12-08-2012\n",
       "5  105  madhuri  25-09-2012"
      ]
     },
     "execution_count": 18,
     "metadata": {},
     "output_type": "execute_result"
    }
   ],
   "source": [
    "# Select operation in data frame\n",
    "import pandas as pd \n",
    "mydata={'ID':[100,101,102,103,104,105],'name':\n",
    "        ['ramya','surya','deepika',\n",
    "            'radhika','sakshi','madhuri'],\n",
    "        \n",
    "        'Doj':['12-01-2012','11-04-2012','2-01-2012','7-01-2012'\n",
    "               ,'12-08-2012','25-09-2012',]}\n",
    "df=pd.DataFrame(mydata)\n",
    "df"
   ]
  },
  {
   "cell_type": "code",
   "execution_count": 19,
   "id": "c60552f8",
   "metadata": {},
   "outputs": [
    {
     "data": {
      "text/plain": [
       "0    100\n",
       "1    101\n",
       "2    102\n",
       "3    103\n",
       "4    104\n",
       "5    105\n",
       "Name: ID, dtype: int64"
      ]
     },
     "execution_count": 19,
     "metadata": {},
     "output_type": "execute_result"
    }
   ],
   "source": [
    "df.ID"
   ]
  },
  {
   "cell_type": "code",
   "execution_count": 20,
   "id": "8d00f3a8",
   "metadata": {},
   "outputs": [
    {
     "data": {
      "text/html": [
       "<div>\n",
       "<style scoped>\n",
       "    .dataframe tbody tr th:only-of-type {\n",
       "        vertical-align: middle;\n",
       "    }\n",
       "\n",
       "    .dataframe tbody tr th {\n",
       "        vertical-align: top;\n",
       "    }\n",
       "\n",
       "    .dataframe thead th {\n",
       "        text-align: right;\n",
       "    }\n",
       "</style>\n",
       "<table border=\"1\" class=\"dataframe\">\n",
       "  <thead>\n",
       "    <tr style=\"text-align: right;\">\n",
       "      <th></th>\n",
       "      <th>ID</th>\n",
       "      <th>name</th>\n",
       "    </tr>\n",
       "  </thead>\n",
       "  <tbody>\n",
       "    <tr>\n",
       "      <th>0</th>\n",
       "      <td>100</td>\n",
       "      <td>ramya</td>\n",
       "    </tr>\n",
       "    <tr>\n",
       "      <th>1</th>\n",
       "      <td>101</td>\n",
       "      <td>surya</td>\n",
       "    </tr>\n",
       "    <tr>\n",
       "      <th>2</th>\n",
       "      <td>102</td>\n",
       "      <td>deepika</td>\n",
       "    </tr>\n",
       "    <tr>\n",
       "      <th>3</th>\n",
       "      <td>103</td>\n",
       "      <td>radhika</td>\n",
       "    </tr>\n",
       "    <tr>\n",
       "      <th>4</th>\n",
       "      <td>104</td>\n",
       "      <td>sakshi</td>\n",
       "    </tr>\n",
       "    <tr>\n",
       "      <th>5</th>\n",
       "      <td>105</td>\n",
       "      <td>madhuri</td>\n",
       "    </tr>\n",
       "  </tbody>\n",
       "</table>\n",
       "</div>"
      ],
      "text/plain": [
       "    ID     name\n",
       "0  100    ramya\n",
       "1  101    surya\n",
       "2  102  deepika\n",
       "3  103  radhika\n",
       "4  104   sakshi\n",
       "5  105  madhuri"
      ]
     },
     "execution_count": 20,
     "metadata": {},
     "output_type": "execute_result"
    }
   ],
   "source": [
    "df[['ID','name']]"
   ]
  },
  {
   "cell_type": "code",
   "execution_count": 22,
   "id": "877007ce",
   "metadata": {},
   "outputs": [
    {
     "data": {
      "text/html": [
       "<div>\n",
       "<style scoped>\n",
       "    .dataframe tbody tr th:only-of-type {\n",
       "        vertical-align: middle;\n",
       "    }\n",
       "\n",
       "    .dataframe tbody tr th {\n",
       "        vertical-align: top;\n",
       "    }\n",
       "\n",
       "    .dataframe thead th {\n",
       "        text-align: right;\n",
       "    }\n",
       "</style>\n",
       "<table border=\"1\" class=\"dataframe\">\n",
       "  <thead>\n",
       "    <tr style=\"text-align: right;\">\n",
       "      <th></th>\n",
       "      <th>Cabin_number</th>\n",
       "      <th>name</th>\n",
       "      <th>Doj</th>\n",
       "    </tr>\n",
       "  </thead>\n",
       "  <tbody>\n",
       "    <tr>\n",
       "      <th>0</th>\n",
       "      <td>100</td>\n",
       "      <td>ramya</td>\n",
       "      <td>12-01-2012</td>\n",
       "    </tr>\n",
       "    <tr>\n",
       "      <th>1</th>\n",
       "      <td>101</td>\n",
       "      <td>surya</td>\n",
       "      <td>11-04-2012</td>\n",
       "    </tr>\n",
       "    <tr>\n",
       "      <th>2</th>\n",
       "      <td>102</td>\n",
       "      <td>deepika</td>\n",
       "      <td>2-01-2012</td>\n",
       "    </tr>\n",
       "    <tr>\n",
       "      <th>3</th>\n",
       "      <td>103</td>\n",
       "      <td>radhika</td>\n",
       "      <td>7-01-2012</td>\n",
       "    </tr>\n",
       "    <tr>\n",
       "      <th>4</th>\n",
       "      <td>104</td>\n",
       "      <td>sakshi</td>\n",
       "      <td>12-08-2012</td>\n",
       "    </tr>\n",
       "    <tr>\n",
       "      <th>5</th>\n",
       "      <td>105</td>\n",
       "      <td>madhuri</td>\n",
       "      <td>25-09-2012</td>\n",
       "    </tr>\n",
       "  </tbody>\n",
       "</table>\n",
       "</div>"
      ],
      "text/plain": [
       "   Cabin_number     name         Doj\n",
       "0           100    ramya  12-01-2012\n",
       "1           101    surya  11-04-2012\n",
       "2           102  deepika   2-01-2012\n",
       "3           103  radhika   7-01-2012\n",
       "4           104   sakshi  12-08-2012\n",
       "5           105  madhuri  25-09-2012"
      ]
     },
     "execution_count": 22,
     "metadata": {},
     "output_type": "execute_result"
    }
   ],
   "source": [
    "df.rename(columns={'ID':'Cabin_number'})"
   ]
  },
  {
   "cell_type": "code",
   "execution_count": 23,
   "id": "ade1bbd8",
   "metadata": {},
   "outputs": [
    {
     "data": {
      "text/html": [
       "<div>\n",
       "<style scoped>\n",
       "    .dataframe tbody tr th:only-of-type {\n",
       "        vertical-align: middle;\n",
       "    }\n",
       "\n",
       "    .dataframe tbody tr th {\n",
       "        vertical-align: top;\n",
       "    }\n",
       "\n",
       "    .dataframe thead th {\n",
       "        text-align: right;\n",
       "    }\n",
       "</style>\n",
       "<table border=\"1\" class=\"dataframe\">\n",
       "  <thead>\n",
       "    <tr style=\"text-align: right;\">\n",
       "      <th></th>\n",
       "      <th>ID</th>\n",
       "      <th>name</th>\n",
       "      <th>Doj</th>\n",
       "      <th>list</th>\n",
       "    </tr>\n",
       "  </thead>\n",
       "  <tbody>\n",
       "    <tr>\n",
       "      <th>0</th>\n",
       "      <td>100</td>\n",
       "      <td>ramya</td>\n",
       "      <td>12-01-2012</td>\n",
       "      <td>20</td>\n",
       "    </tr>\n",
       "    <tr>\n",
       "      <th>1</th>\n",
       "      <td>101</td>\n",
       "      <td>surya</td>\n",
       "      <td>11-04-2012</td>\n",
       "      <td>20</td>\n",
       "    </tr>\n",
       "    <tr>\n",
       "      <th>2</th>\n",
       "      <td>102</td>\n",
       "      <td>deepika</td>\n",
       "      <td>2-01-2012</td>\n",
       "      <td>20</td>\n",
       "    </tr>\n",
       "    <tr>\n",
       "      <th>3</th>\n",
       "      <td>103</td>\n",
       "      <td>radhika</td>\n",
       "      <td>7-01-2012</td>\n",
       "      <td>20</td>\n",
       "    </tr>\n",
       "    <tr>\n",
       "      <th>4</th>\n",
       "      <td>104</td>\n",
       "      <td>sakshi</td>\n",
       "      <td>12-08-2012</td>\n",
       "      <td>20</td>\n",
       "    </tr>\n",
       "    <tr>\n",
       "      <th>5</th>\n",
       "      <td>105</td>\n",
       "      <td>madhuri</td>\n",
       "      <td>25-09-2012</td>\n",
       "      <td>20</td>\n",
       "    </tr>\n",
       "  </tbody>\n",
       "</table>\n",
       "</div>"
      ],
      "text/plain": [
       "    ID     name         Doj  list\n",
       "0  100    ramya  12-01-2012    20\n",
       "1  101    surya  11-04-2012    20\n",
       "2  102  deepika   2-01-2012    20\n",
       "3  103  radhika   7-01-2012    20\n",
       "4  104   sakshi  12-08-2012    20\n",
       "5  105  madhuri  25-09-2012    20"
      ]
     },
     "execution_count": 23,
     "metadata": {},
     "output_type": "execute_result"
    }
   ],
   "source": [
    "# To add new column with 20 entry\n",
    "df['list']=20\n",
    "df"
   ]
  },
  {
   "cell_type": "code",
   "execution_count": 24,
   "id": "c75e758f",
   "metadata": {},
   "outputs": [
    {
     "data": {
      "text/html": [
       "<div>\n",
       "<style scoped>\n",
       "    .dataframe tbody tr th:only-of-type {\n",
       "        vertical-align: middle;\n",
       "    }\n",
       "\n",
       "    .dataframe tbody tr th {\n",
       "        vertical-align: top;\n",
       "    }\n",
       "\n",
       "    .dataframe thead th {\n",
       "        text-align: right;\n",
       "    }\n",
       "</style>\n",
       "<table border=\"1\" class=\"dataframe\">\n",
       "  <thead>\n",
       "    <tr style=\"text-align: right;\">\n",
       "      <th></th>\n",
       "      <th>ID</th>\n",
       "      <th>name</th>\n",
       "      <th>Doj</th>\n",
       "    </tr>\n",
       "  </thead>\n",
       "  <tbody>\n",
       "    <tr>\n",
       "      <th>0</th>\n",
       "      <td>100</td>\n",
       "      <td>ramya</td>\n",
       "      <td>12-01-2012</td>\n",
       "    </tr>\n",
       "    <tr>\n",
       "      <th>1</th>\n",
       "      <td>101</td>\n",
       "      <td>surya</td>\n",
       "      <td>11-04-2012</td>\n",
       "    </tr>\n",
       "    <tr>\n",
       "      <th>2</th>\n",
       "      <td>102</td>\n",
       "      <td>deepika</td>\n",
       "      <td>2-01-2012</td>\n",
       "    </tr>\n",
       "    <tr>\n",
       "      <th>3</th>\n",
       "      <td>103</td>\n",
       "      <td>radhika</td>\n",
       "      <td>7-01-2012</td>\n",
       "    </tr>\n",
       "    <tr>\n",
       "      <th>4</th>\n",
       "      <td>104</td>\n",
       "      <td>sakshi</td>\n",
       "      <td>12-08-2012</td>\n",
       "    </tr>\n",
       "    <tr>\n",
       "      <th>5</th>\n",
       "      <td>105</td>\n",
       "      <td>madhuri</td>\n",
       "      <td>25-09-2012</td>\n",
       "    </tr>\n",
       "  </tbody>\n",
       "</table>\n",
       "</div>"
      ],
      "text/plain": [
       "    ID     name         Doj\n",
       "0  100    ramya  12-01-2012\n",
       "1  101    surya  11-04-2012\n",
       "2  102  deepika   2-01-2012\n",
       "3  103  radhika   7-01-2012\n",
       "4  104   sakshi  12-08-2012\n",
       "5  105  madhuri  25-09-2012"
      ]
     },
     "execution_count": 24,
     "metadata": {},
     "output_type": "execute_result"
    }
   ],
   "source": [
    "df.pop('list')  #For delete the column by using pop(),drop()\n",
    "df"
   ]
  },
  {
   "cell_type": "code",
   "execution_count": 25,
   "id": "10959361",
   "metadata": {},
   "outputs": [
    {
     "name": "stdout",
     "output_type": "stream",
     "text": [
      "   list  list1\n",
      "0    10     40\n",
      "1    20     40\n",
      "2    30     40\n",
      "3    40     40\n",
      "after deletion:\n",
      "    list\n",
      "0    10\n",
      "1    20\n",
      "2    30\n",
      "3    40\n",
      "after row deletion:\n",
      "\n",
      "   list  list1\n",
      "0    10     40\n",
      "1    20     40\n"
     ]
    }
   ],
   "source": [
    "import pandas as pd\n",
    "s=pd.Series([10,20,30,40])\n",
    "df=pd.DataFrame(s)\n",
    "df.columns=['list']\n",
    "df['list1']=40\n",
    "df1=df.drop('list1',axis=1)      # (axis=1)delete the data column wise\n",
    "df2=df.drop(index=[2,3],axis=0) \n",
    "# (axis=0) means to delete data row wise with given index\n",
    "\n",
    "print(df)\n",
    "print('after deletion:\\n',df1)\n",
    "print('after row deletion:\\n')\n",
    "print(df2)\n"
   ]
  },
  {
   "cell_type": "markdown",
   "id": "3db03428",
   "metadata": {},
   "source": [
    "## 4.4The use of loc and iloc"
   ]
  },
  {
   "cell_type": "code",
   "execution_count": 26,
   "id": "aeae3b5f",
   "metadata": {},
   "outputs": [
    {
     "name": "stdout",
     "output_type": "stream",
     "text": [
      "   list  list1  list2  list3\n",
      "0    10     40     50     20\n",
      "1    20     40     50     20\n",
      "2    30     40     50     20\n",
      "3    40     40     50     20\n",
      "   list  list1\n",
      "0    10     40\n",
      "1    20     40\n",
      "2    30     40\n",
      "3    40     40\n",
      "   list  list1  list2  list3\n",
      "0    10     40     50     20\n",
      "1    20     40     50     20\n",
      "   list1\n",
      "0     40\n",
      "1     40\n",
      "   list  list1\n",
      "0    10     40\n",
      "1    20     40\n",
      "2    30     40\n",
      "3    40     40\n"
     ]
    }
   ],
   "source": [
    "df\n",
    "df[['list2','list3']]=[50,20]   # To add the column in listwise\n",
    "print(df)\n",
    "print(df.loc[:,'list':'list1']) # To print the only two column\n",
    "print(df.loc[0:1])  # To print the row 0 and 1\n",
    "print(df.iloc[0:2,1:2]) # To print two row and first columnn of list1\n",
    "print(df.iloc[:,0:2])  # To print entire row and two column list and list1"
   ]
  },
  {
   "cell_type": "markdown",
   "id": "86050b40",
   "metadata": {},
   "source": [
    "# 5. Boolean Indexing in DataFrame\n",
    "To create DataFrame with a boolean index to use the boolean indexing"
   ]
  },
  {
   "cell_type": "code",
   "execution_count": 27,
   "id": "983ddb5a",
   "metadata": {},
   "outputs": [
    {
     "name": "stdout",
     "output_type": "stream",
     "text": [
      "            Name  Age\n",
      "True   Umeshawar   26\n",
      "False     Ashish   27\n",
      "True      Suresh   28\n",
      "           Name  Age\n",
      "True  Umeshawar   26\n",
      "True     Suresh   28\n",
      "           Name  Age\n",
      "True  Umeshawar   26\n"
     ]
    }
   ],
   "source": [
    "import pandas as pd\n",
    "dic={'Name':['Umeshawar','Ashish','Suresh'],\n",
    "    'Age':[26,27,28]}\n",
    "\n",
    "# To creating a DataFrame with boolean index vector\n",
    "df=pd.DataFrame(dic,index=[True,False,True])\n",
    "print(df)\n",
    "\n",
    "print(df.loc[True])\n",
    "print(df.iloc[0:1])"
   ]
  },
  {
   "cell_type": "markdown",
   "id": "46db6f57",
   "metadata": {},
   "source": [
    "# 6.Concat operation in data frame\n",
    "\n",
    "Pandas provides various facilities for easily combining together Series, \n",
    "DataFrame.\n",
    "\n",
    "pd.concat(objs, axis=0, join='outer', join_axes=None,ignore_index=False)"
   ]
  },
  {
   "cell_type": "code",
   "execution_count": 28,
   "id": "99b3fad0",
   "metadata": {},
   "outputs": [
    {
     "data": {
      "text/html": [
       "<div>\n",
       "<style scoped>\n",
       "    .dataframe tbody tr th:only-of-type {\n",
       "        vertical-align: middle;\n",
       "    }\n",
       "\n",
       "    .dataframe tbody tr th {\n",
       "        vertical-align: top;\n",
       "    }\n",
       "\n",
       "    .dataframe thead th {\n",
       "        text-align: right;\n",
       "    }\n",
       "</style>\n",
       "<table border=\"1\" class=\"dataframe\">\n",
       "  <thead>\n",
       "    <tr style=\"text-align: right;\">\n",
       "      <th></th>\n",
       "      <th>id</th>\n",
       "      <th>Value1</th>\n",
       "      <th>Value2</th>\n",
       "    </tr>\n",
       "  </thead>\n",
       "  <tbody>\n",
       "    <tr>\n",
       "      <th>0</th>\n",
       "      <td>1</td>\n",
       "      <td>A</td>\n",
       "      <td>B</td>\n",
       "    </tr>\n",
       "    <tr>\n",
       "      <th>1</th>\n",
       "      <td>2</td>\n",
       "      <td>C</td>\n",
       "      <td>D</td>\n",
       "    </tr>\n",
       "    <tr>\n",
       "      <th>2</th>\n",
       "      <td>3</td>\n",
       "      <td>G</td>\n",
       "      <td>F</td>\n",
       "    </tr>\n",
       "    <tr>\n",
       "      <th>3</th>\n",
       "      <td>4</td>\n",
       "      <td>I</td>\n",
       "      <td>H</td>\n",
       "    </tr>\n",
       "    <tr>\n",
       "      <th>4</th>\n",
       "      <td>5</td>\n",
       "      <td>S</td>\n",
       "      <td>J</td>\n",
       "    </tr>\n",
       "  </tbody>\n",
       "</table>\n",
       "</div>"
      ],
      "text/plain": [
       "  id Value1 Value2\n",
       "0  1      A      B\n",
       "1  2      C      D\n",
       "2  3      G      F\n",
       "3  4      I      H\n",
       "4  5      S      J"
      ]
     },
     "execution_count": 28,
     "metadata": {},
     "output_type": "execute_result"
    }
   ],
   "source": [
    "import pandas as pd\n",
    "dic1={'id':['1','2','3','4','5'],'Value1':['A','C','G','I','S'],\n",
    "      'Value2':['B','D','F','H','J']}\n",
    "dic2={'id':['2','3','6','7','8'],'Value1':['K','M','O','Q','S'],\n",
    "      'Value2':['L','N','P','R','T']}\n",
    "df1=pd.DataFrame(dic1)\n",
    "df1\n"
   ]
  },
  {
   "cell_type": "code",
   "execution_count": 29,
   "id": "ef82da38",
   "metadata": {},
   "outputs": [
    {
     "data": {
      "text/html": [
       "<div>\n",
       "<style scoped>\n",
       "    .dataframe tbody tr th:only-of-type {\n",
       "        vertical-align: middle;\n",
       "    }\n",
       "\n",
       "    .dataframe tbody tr th {\n",
       "        vertical-align: top;\n",
       "    }\n",
       "\n",
       "    .dataframe thead th {\n",
       "        text-align: right;\n",
       "    }\n",
       "</style>\n",
       "<table border=\"1\" class=\"dataframe\">\n",
       "  <thead>\n",
       "    <tr style=\"text-align: right;\">\n",
       "      <th></th>\n",
       "      <th>id</th>\n",
       "      <th>Value1</th>\n",
       "      <th>Value2</th>\n",
       "    </tr>\n",
       "  </thead>\n",
       "  <tbody>\n",
       "    <tr>\n",
       "      <th>0</th>\n",
       "      <td>2</td>\n",
       "      <td>K</td>\n",
       "      <td>L</td>\n",
       "    </tr>\n",
       "    <tr>\n",
       "      <th>1</th>\n",
       "      <td>3</td>\n",
       "      <td>M</td>\n",
       "      <td>N</td>\n",
       "    </tr>\n",
       "    <tr>\n",
       "      <th>2</th>\n",
       "      <td>6</td>\n",
       "      <td>O</td>\n",
       "      <td>P</td>\n",
       "    </tr>\n",
       "    <tr>\n",
       "      <th>3</th>\n",
       "      <td>7</td>\n",
       "      <td>Q</td>\n",
       "      <td>R</td>\n",
       "    </tr>\n",
       "    <tr>\n",
       "      <th>4</th>\n",
       "      <td>8</td>\n",
       "      <td>S</td>\n",
       "      <td>T</td>\n",
       "    </tr>\n",
       "  </tbody>\n",
       "</table>\n",
       "</div>"
      ],
      "text/plain": [
       "  id Value1 Value2\n",
       "0  2      K      L\n",
       "1  3      M      N\n",
       "2  6      O      P\n",
       "3  7      Q      R\n",
       "4  8      S      T"
      ]
     },
     "execution_count": 29,
     "metadata": {},
     "output_type": "execute_result"
    }
   ],
   "source": [
    "df2=pd.DataFrame(dic2)\n",
    "df2"
   ]
  },
  {
   "cell_type": "code",
   "execution_count": 30,
   "id": "bd4980f3",
   "metadata": {},
   "outputs": [
    {
     "data": {
      "text/html": [
       "<div>\n",
       "<style scoped>\n",
       "    .dataframe tbody tr th:only-of-type {\n",
       "        vertical-align: middle;\n",
       "    }\n",
       "\n",
       "    .dataframe tbody tr th {\n",
       "        vertical-align: top;\n",
       "    }\n",
       "\n",
       "    .dataframe thead th {\n",
       "        text-align: right;\n",
       "    }\n",
       "</style>\n",
       "<table border=\"1\" class=\"dataframe\">\n",
       "  <thead>\n",
       "    <tr style=\"text-align: right;\">\n",
       "      <th></th>\n",
       "      <th>id</th>\n",
       "      <th>Value1</th>\n",
       "      <th>Value2</th>\n",
       "    </tr>\n",
       "  </thead>\n",
       "  <tbody>\n",
       "    <tr>\n",
       "      <th>0</th>\n",
       "      <td>1</td>\n",
       "      <td>A</td>\n",
       "      <td>B</td>\n",
       "    </tr>\n",
       "    <tr>\n",
       "      <th>1</th>\n",
       "      <td>2</td>\n",
       "      <td>C</td>\n",
       "      <td>D</td>\n",
       "    </tr>\n",
       "    <tr>\n",
       "      <th>2</th>\n",
       "      <td>3</td>\n",
       "      <td>G</td>\n",
       "      <td>F</td>\n",
       "    </tr>\n",
       "    <tr>\n",
       "      <th>3</th>\n",
       "      <td>4</td>\n",
       "      <td>I</td>\n",
       "      <td>H</td>\n",
       "    </tr>\n",
       "    <tr>\n",
       "      <th>4</th>\n",
       "      <td>5</td>\n",
       "      <td>S</td>\n",
       "      <td>J</td>\n",
       "    </tr>\n",
       "    <tr>\n",
       "      <th>5</th>\n",
       "      <td>2</td>\n",
       "      <td>K</td>\n",
       "      <td>L</td>\n",
       "    </tr>\n",
       "    <tr>\n",
       "      <th>6</th>\n",
       "      <td>3</td>\n",
       "      <td>M</td>\n",
       "      <td>N</td>\n",
       "    </tr>\n",
       "    <tr>\n",
       "      <th>7</th>\n",
       "      <td>6</td>\n",
       "      <td>O</td>\n",
       "      <td>P</td>\n",
       "    </tr>\n",
       "    <tr>\n",
       "      <th>8</th>\n",
       "      <td>7</td>\n",
       "      <td>Q</td>\n",
       "      <td>R</td>\n",
       "    </tr>\n",
       "    <tr>\n",
       "      <th>9</th>\n",
       "      <td>8</td>\n",
       "      <td>S</td>\n",
       "      <td>T</td>\n",
       "    </tr>\n",
       "  </tbody>\n",
       "</table>\n",
       "</div>"
      ],
      "text/plain": [
       "  id Value1 Value2\n",
       "0  1      A      B\n",
       "1  2      C      D\n",
       "2  3      G      F\n",
       "3  4      I      H\n",
       "4  5      S      J\n",
       "5  2      K      L\n",
       "6  3      M      N\n",
       "7  6      O      P\n",
       "8  7      Q      R\n",
       "9  8      S      T"
      ]
     },
     "execution_count": 30,
     "metadata": {},
     "output_type": "execute_result"
    }
   ],
   "source": [
    "# To Concate two table\n",
    "df3=pd.concat([df1,df2],ignore_index=True) \n",
    "df3"
   ]
  },
  {
   "cell_type": "code",
   "execution_count": 31,
   "id": "a99b4954",
   "metadata": {},
   "outputs": [
    {
     "data": {
      "text/html": [
       "<div>\n",
       "<style scoped>\n",
       "    .dataframe tbody tr th:only-of-type {\n",
       "        vertical-align: middle;\n",
       "    }\n",
       "\n",
       "    .dataframe tbody tr th {\n",
       "        vertical-align: top;\n",
       "    }\n",
       "\n",
       "    .dataframe thead th {\n",
       "        text-align: right;\n",
       "    }\n",
       "</style>\n",
       "<table border=\"1\" class=\"dataframe\">\n",
       "  <thead>\n",
       "    <tr style=\"text-align: right;\">\n",
       "      <th></th>\n",
       "      <th>id</th>\n",
       "      <th>Value1</th>\n",
       "      <th>Value2</th>\n",
       "    </tr>\n",
       "  </thead>\n",
       "  <tbody>\n",
       "    <tr>\n",
       "      <th>0</th>\n",
       "      <td>1</td>\n",
       "      <td>A</td>\n",
       "      <td>B</td>\n",
       "    </tr>\n",
       "    <tr>\n",
       "      <th>1</th>\n",
       "      <td>2</td>\n",
       "      <td>C</td>\n",
       "      <td>D</td>\n",
       "    </tr>\n",
       "    <tr>\n",
       "      <th>2</th>\n",
       "      <td>3</td>\n",
       "      <td>G</td>\n",
       "      <td>F</td>\n",
       "    </tr>\n",
       "    <tr>\n",
       "      <th>3</th>\n",
       "      <td>4</td>\n",
       "      <td>I</td>\n",
       "      <td>H</td>\n",
       "    </tr>\n",
       "    <tr>\n",
       "      <th>4</th>\n",
       "      <td>5</td>\n",
       "      <td>S</td>\n",
       "      <td>J</td>\n",
       "    </tr>\n",
       "    <tr>\n",
       "      <th>0</th>\n",
       "      <td>2</td>\n",
       "      <td>K</td>\n",
       "      <td>L</td>\n",
       "    </tr>\n",
       "    <tr>\n",
       "      <th>1</th>\n",
       "      <td>3</td>\n",
       "      <td>M</td>\n",
       "      <td>N</td>\n",
       "    </tr>\n",
       "    <tr>\n",
       "      <th>2</th>\n",
       "      <td>6</td>\n",
       "      <td>O</td>\n",
       "      <td>P</td>\n",
       "    </tr>\n",
       "    <tr>\n",
       "      <th>3</th>\n",
       "      <td>7</td>\n",
       "      <td>Q</td>\n",
       "      <td>R</td>\n",
       "    </tr>\n",
       "    <tr>\n",
       "      <th>4</th>\n",
       "      <td>8</td>\n",
       "      <td>S</td>\n",
       "      <td>T</td>\n",
       "    </tr>\n",
       "  </tbody>\n",
       "</table>\n",
       "</div>"
      ],
      "text/plain": [
       "  id Value1 Value2\n",
       "0  1      A      B\n",
       "1  2      C      D\n",
       "2  3      G      F\n",
       "3  4      I      H\n",
       "4  5      S      J\n",
       "0  2      K      L\n",
       "1  3      M      N\n",
       "2  6      O      P\n",
       "3  7      Q      R\n",
       "4  8      S      T"
      ]
     },
     "execution_count": 31,
     "metadata": {},
     "output_type": "execute_result"
    }
   ],
   "source": [
    "import pandas as pd\n",
    "dic1={'id':['1','2','3','4','5'],'Value1':['A','C','G','I','S'],\n",
    "      'Value2':['B','D','F','H','J']}\n",
    "dic2={'id':['2','3','6','7','8'],'Value1':['K','M','O','Q','S'],\n",
    "      'Value2':['L','N','P','R','T']}\n",
    "df1=pd.DataFrame(dic1)\n",
    "df2=pd.DataFrame(dic2)\n",
    "df3=pd.concat([df1,df2],axis=0) # To add the data into row wise if\n",
    "#just change axis=1 then add column wise\n",
    "df3"
   ]
  },
  {
   "cell_type": "code",
   "execution_count": 32,
   "id": "d351ffa6",
   "metadata": {},
   "outputs": [
    {
     "data": {
      "text/html": [
       "<div>\n",
       "<style scoped>\n",
       "    .dataframe tbody tr th:only-of-type {\n",
       "        vertical-align: middle;\n",
       "    }\n",
       "\n",
       "    .dataframe tbody tr th {\n",
       "        vertical-align: top;\n",
       "    }\n",
       "\n",
       "    .dataframe thead th {\n",
       "        text-align: right;\n",
       "    }\n",
       "</style>\n",
       "<table border=\"1\" class=\"dataframe\">\n",
       "  <thead>\n",
       "    <tr style=\"text-align: right;\">\n",
       "      <th></th>\n",
       "      <th>id</th>\n",
       "      <th>Value1_x</th>\n",
       "      <th>Value2_x</th>\n",
       "      <th>Value1_y</th>\n",
       "      <th>Value2_y</th>\n",
       "    </tr>\n",
       "  </thead>\n",
       "  <tbody>\n",
       "    <tr>\n",
       "      <th>0</th>\n",
       "      <td>2</td>\n",
       "      <td>C</td>\n",
       "      <td>D</td>\n",
       "      <td>K</td>\n",
       "      <td>L</td>\n",
       "    </tr>\n",
       "    <tr>\n",
       "      <th>1</th>\n",
       "      <td>3</td>\n",
       "      <td>G</td>\n",
       "      <td>F</td>\n",
       "      <td>M</td>\n",
       "      <td>N</td>\n",
       "    </tr>\n",
       "  </tbody>\n",
       "</table>\n",
       "</div>"
      ],
      "text/plain": [
       "  id Value1_x Value2_x Value1_y Value2_y\n",
       "0  2        C        D        K        L\n",
       "1  3        G        F        M        N"
      ]
     },
     "execution_count": 32,
     "metadata": {},
     "output_type": "execute_result"
    }
   ],
   "source": [
    "import pandas as pd\n",
    "dic1={'id':['1','2','3','4','5'],'Value1':['A','C','G','I','S'],\n",
    "      'Value2':['B','D','F','H','J']}\n",
    "dic2={'id':['2','3','6','7','8'],'Value1':['K','M','O','Q','S'],\n",
    "      'Value2':['L','N','P','R','T']}\n",
    "df1=pd.DataFrame(dic1)\n",
    "df2=pd.DataFrame(dic2)\n",
    "df3=pd.merge(df1,df2,left_on='id',right_on='id')\n",
    "df3\n",
    "\n"
   ]
  },
  {
   "cell_type": "markdown",
   "id": "3dbd9120",
   "metadata": {},
   "source": [
    "# 7. Join operation in data frame\n",
    "\n",
    "## 7.1 Full Outer Join:- \n",
    "\n",
    "The full outer join combines the results of \n",
    "\n",
    "both the left and the right outer joins. The joined data frame will \n",
    "\n",
    "contain all records from both the data frames and fill in NaNs for \n",
    "\n",
    "missing matches on either side. You can perform a full outer join by \n",
    "\n",
    "specifying the how argument as outer in merge() function. "
   ]
  },
  {
   "cell_type": "code",
   "execution_count": 33,
   "id": "2de9c5f3",
   "metadata": {},
   "outputs": [
    {
     "data": {
      "text/html": [
       "<div>\n",
       "<style scoped>\n",
       "    .dataframe tbody tr th:only-of-type {\n",
       "        vertical-align: middle;\n",
       "    }\n",
       "\n",
       "    .dataframe tbody tr th {\n",
       "        vertical-align: top;\n",
       "    }\n",
       "\n",
       "    .dataframe thead th {\n",
       "        text-align: right;\n",
       "    }\n",
       "</style>\n",
       "<table border=\"1\" class=\"dataframe\">\n",
       "  <thead>\n",
       "    <tr style=\"text-align: right;\">\n",
       "      <th></th>\n",
       "      <th>id</th>\n",
       "      <th>Value1_x</th>\n",
       "      <th>Value2_x</th>\n",
       "      <th>Value1_y</th>\n",
       "      <th>Value2_y</th>\n",
       "    </tr>\n",
       "  </thead>\n",
       "  <tbody>\n",
       "    <tr>\n",
       "      <th>0</th>\n",
       "      <td>1</td>\n",
       "      <td>A</td>\n",
       "      <td>B</td>\n",
       "      <td>NaN</td>\n",
       "      <td>NaN</td>\n",
       "    </tr>\n",
       "    <tr>\n",
       "      <th>1</th>\n",
       "      <td>2</td>\n",
       "      <td>C</td>\n",
       "      <td>D</td>\n",
       "      <td>K</td>\n",
       "      <td>L</td>\n",
       "    </tr>\n",
       "    <tr>\n",
       "      <th>2</th>\n",
       "      <td>3</td>\n",
       "      <td>G</td>\n",
       "      <td>F</td>\n",
       "      <td>M</td>\n",
       "      <td>N</td>\n",
       "    </tr>\n",
       "    <tr>\n",
       "      <th>3</th>\n",
       "      <td>4</td>\n",
       "      <td>I</td>\n",
       "      <td>H</td>\n",
       "      <td>NaN</td>\n",
       "      <td>NaN</td>\n",
       "    </tr>\n",
       "    <tr>\n",
       "      <th>4</th>\n",
       "      <td>5</td>\n",
       "      <td>S</td>\n",
       "      <td>J</td>\n",
       "      <td>NaN</td>\n",
       "      <td>NaN</td>\n",
       "    </tr>\n",
       "    <tr>\n",
       "      <th>5</th>\n",
       "      <td>6</td>\n",
       "      <td>NaN</td>\n",
       "      <td>NaN</td>\n",
       "      <td>O</td>\n",
       "      <td>P</td>\n",
       "    </tr>\n",
       "    <tr>\n",
       "      <th>6</th>\n",
       "      <td>7</td>\n",
       "      <td>NaN</td>\n",
       "      <td>NaN</td>\n",
       "      <td>Q</td>\n",
       "      <td>R</td>\n",
       "    </tr>\n",
       "    <tr>\n",
       "      <th>7</th>\n",
       "      <td>8</td>\n",
       "      <td>NaN</td>\n",
       "      <td>NaN</td>\n",
       "      <td>S</td>\n",
       "      <td>T</td>\n",
       "    </tr>\n",
       "  </tbody>\n",
       "</table>\n",
       "</div>"
      ],
      "text/plain": [
       "  id Value1_x Value2_x Value1_y Value2_y\n",
       "0  1        A        B      NaN      NaN\n",
       "1  2        C        D        K        L\n",
       "2  3        G        F        M        N\n",
       "3  4        I        H      NaN      NaN\n",
       "4  5        S        J      NaN      NaN\n",
       "5  6      NaN      NaN        O        P\n",
       "6  7      NaN      NaN        Q        R\n",
       "7  8      NaN      NaN        S        T"
      ]
     },
     "execution_count": 33,
     "metadata": {},
     "output_type": "execute_result"
    }
   ],
   "source": [
    "import pandas as pd\n",
    "dic1={'id':['1','2','3','4','5'],'Value1':['A','C','G','I','S'],\n",
    "      'Value2':['B','D','F','H','J']}\n",
    "dic2={'id':['2','3','6','7','8'],'Value1':['K','M','O','Q','S'],\n",
    "      'Value2':['L','N','P','R','T']}\n",
    "df1=pd.DataFrame(dic1)\n",
    "df2=pd.DataFrame(dic2)\n",
    "df3=pd.merge(df1,df2,on='id',how='outer')\n",
    "df3"
   ]
  },
  {
   "cell_type": "markdown",
   "id": "0fb511dd",
   "metadata": {},
   "source": [
    "## 7.2 Inner Join :-\n",
    "\n",
    "The inner join produce only those records that match in both the dataframe.\n",
    "\n",
    "You have to pass inner in how argument inside merge() function. "
   ]
  },
  {
   "cell_type": "code",
   "execution_count": 34,
   "id": "b753b109",
   "metadata": {},
   "outputs": [
    {
     "data": {
      "text/html": [
       "<div>\n",
       "<style scoped>\n",
       "    .dataframe tbody tr th:only-of-type {\n",
       "        vertical-align: middle;\n",
       "    }\n",
       "\n",
       "    .dataframe tbody tr th {\n",
       "        vertical-align: top;\n",
       "    }\n",
       "\n",
       "    .dataframe thead th {\n",
       "        text-align: right;\n",
       "    }\n",
       "</style>\n",
       "<table border=\"1\" class=\"dataframe\">\n",
       "  <thead>\n",
       "    <tr style=\"text-align: right;\">\n",
       "      <th></th>\n",
       "      <th>id</th>\n",
       "      <th>Value1_x</th>\n",
       "      <th>Value2_x</th>\n",
       "      <th>Value1_y</th>\n",
       "      <th>Value2_y</th>\n",
       "    </tr>\n",
       "  </thead>\n",
       "  <tbody>\n",
       "    <tr>\n",
       "      <th>0</th>\n",
       "      <td>2</td>\n",
       "      <td>C</td>\n",
       "      <td>D</td>\n",
       "      <td>K</td>\n",
       "      <td>L</td>\n",
       "    </tr>\n",
       "    <tr>\n",
       "      <th>1</th>\n",
       "      <td>3</td>\n",
       "      <td>G</td>\n",
       "      <td>F</td>\n",
       "      <td>M</td>\n",
       "      <td>N</td>\n",
       "    </tr>\n",
       "  </tbody>\n",
       "</table>\n",
       "</div>"
      ],
      "text/plain": [
       "  id Value1_x Value2_x Value1_y Value2_y\n",
       "0  2        C        D        K        L\n",
       "1  3        G        F        M        N"
      ]
     },
     "execution_count": 34,
     "metadata": {},
     "output_type": "execute_result"
    }
   ],
   "source": [
    "import pandas as pd\n",
    "dic1={'id':['1','2','3','4','5'],'Value1':['A','C','G','I','S'],\n",
    "      'Value2':['B','D','F','H','J']}\n",
    "dic2={'id':['2','3','6','7','8'],'Value1':['K','M','O','Q','S'],\n",
    "      'Value2':['L','N','P','R','T']}\n",
    "df1=pd.DataFrame(dic1)\n",
    "df2=pd.DataFrame(dic2)\n",
    "df3=pd.merge(df1,df2,on='id',how='inner')\n",
    "df3"
   ]
  },
  {
   "cell_type": "markdown",
   "id": "e1991e29",
   "metadata": {},
   "source": [
    "## 7.3 RightJoin :-\n",
    "    \n",
    "The  right join produce a complete set of records from data frame B(Right\n",
    "\n",
    "side Data Frame) with the matching records (where available) in data frame\n",
    "\n",
    "A( Left side data frame). If there is no match right side will containnull.\n",
    "\n",
    "You have to pass right in how argument inside merge() function."
   ]
  },
  {
   "cell_type": "code",
   "execution_count": 35,
   "id": "5da5bc2f",
   "metadata": {},
   "outputs": [
    {
     "data": {
      "text/html": [
       "<div>\n",
       "<style scoped>\n",
       "    .dataframe tbody tr th:only-of-type {\n",
       "        vertical-align: middle;\n",
       "    }\n",
       "\n",
       "    .dataframe tbody tr th {\n",
       "        vertical-align: top;\n",
       "    }\n",
       "\n",
       "    .dataframe thead th {\n",
       "        text-align: right;\n",
       "    }\n",
       "</style>\n",
       "<table border=\"1\" class=\"dataframe\">\n",
       "  <thead>\n",
       "    <tr style=\"text-align: right;\">\n",
       "      <th></th>\n",
       "      <th>id</th>\n",
       "      <th>Value1_x</th>\n",
       "      <th>Value2_x</th>\n",
       "      <th>Value1_y</th>\n",
       "      <th>Value2_y</th>\n",
       "    </tr>\n",
       "  </thead>\n",
       "  <tbody>\n",
       "    <tr>\n",
       "      <th>0</th>\n",
       "      <td>2</td>\n",
       "      <td>C</td>\n",
       "      <td>D</td>\n",
       "      <td>K</td>\n",
       "      <td>L</td>\n",
       "    </tr>\n",
       "    <tr>\n",
       "      <th>1</th>\n",
       "      <td>3</td>\n",
       "      <td>G</td>\n",
       "      <td>F</td>\n",
       "      <td>M</td>\n",
       "      <td>N</td>\n",
       "    </tr>\n",
       "    <tr>\n",
       "      <th>2</th>\n",
       "      <td>6</td>\n",
       "      <td>NaN</td>\n",
       "      <td>NaN</td>\n",
       "      <td>O</td>\n",
       "      <td>P</td>\n",
       "    </tr>\n",
       "    <tr>\n",
       "      <th>3</th>\n",
       "      <td>7</td>\n",
       "      <td>NaN</td>\n",
       "      <td>NaN</td>\n",
       "      <td>Q</td>\n",
       "      <td>R</td>\n",
       "    </tr>\n",
       "    <tr>\n",
       "      <th>4</th>\n",
       "      <td>8</td>\n",
       "      <td>NaN</td>\n",
       "      <td>NaN</td>\n",
       "      <td>S</td>\n",
       "      <td>T</td>\n",
       "    </tr>\n",
       "  </tbody>\n",
       "</table>\n",
       "</div>"
      ],
      "text/plain": [
       "  id Value1_x Value2_x Value1_y Value2_y\n",
       "0  2        C        D        K        L\n",
       "1  3        G        F        M        N\n",
       "2  6      NaN      NaN        O        P\n",
       "3  7      NaN      NaN        Q        R\n",
       "4  8      NaN      NaN        S        T"
      ]
     },
     "execution_count": 35,
     "metadata": {},
     "output_type": "execute_result"
    }
   ],
   "source": [
    "import pandas as pd\n",
    "dic1={'id':['1','2','3','4','5'],'Value1':['A','C','G','I','S'],\n",
    "      'Value2':['B','D','F','H','J']}\n",
    "dic2={'id':['2','3','6','7','8'],'Value1':['K','M','O','Q','S'],\n",
    "      'Value2':['L','N','P','R','T']}\n",
    "df1=pd.DataFrame(dic1)\n",
    "df2=pd.DataFrame(dic2)\n",
    "df3=pd.merge(df1,df2,on='id',how='right')\n",
    "df3"
   ]
  },
  {
   "cell_type": "markdown",
   "id": "c44be023",
   "metadata": {},
   "source": [
    "## 7.4Left Join :- \n",
    "\n",
    "The  left join produce a complete set of records from data frame A(Left \n",
    "\n",
    "side Data Frame) with the matching records (where available) in data frame \n",
    "\n",
    "B( Right side data frame). If there is no match left side will containnull.\n",
    "\n",
    "You have to pass left in how argument inside merge() function. "
   ]
  },
  {
   "cell_type": "code",
   "execution_count": 36,
   "id": "febc6148",
   "metadata": {},
   "outputs": [
    {
     "data": {
      "text/html": [
       "<div>\n",
       "<style scoped>\n",
       "    .dataframe tbody tr th:only-of-type {\n",
       "        vertical-align: middle;\n",
       "    }\n",
       "\n",
       "    .dataframe tbody tr th {\n",
       "        vertical-align: top;\n",
       "    }\n",
       "\n",
       "    .dataframe thead th {\n",
       "        text-align: right;\n",
       "    }\n",
       "</style>\n",
       "<table border=\"1\" class=\"dataframe\">\n",
       "  <thead>\n",
       "    <tr style=\"text-align: right;\">\n",
       "      <th></th>\n",
       "      <th>id</th>\n",
       "      <th>Value1_x</th>\n",
       "      <th>Value2_x</th>\n",
       "      <th>Value1_y</th>\n",
       "      <th>Value2_y</th>\n",
       "    </tr>\n",
       "  </thead>\n",
       "  <tbody>\n",
       "    <tr>\n",
       "      <th>0</th>\n",
       "      <td>1</td>\n",
       "      <td>A</td>\n",
       "      <td>B</td>\n",
       "      <td>NaN</td>\n",
       "      <td>NaN</td>\n",
       "    </tr>\n",
       "    <tr>\n",
       "      <th>1</th>\n",
       "      <td>2</td>\n",
       "      <td>C</td>\n",
       "      <td>D</td>\n",
       "      <td>K</td>\n",
       "      <td>L</td>\n",
       "    </tr>\n",
       "    <tr>\n",
       "      <th>2</th>\n",
       "      <td>3</td>\n",
       "      <td>G</td>\n",
       "      <td>F</td>\n",
       "      <td>M</td>\n",
       "      <td>N</td>\n",
       "    </tr>\n",
       "    <tr>\n",
       "      <th>3</th>\n",
       "      <td>4</td>\n",
       "      <td>I</td>\n",
       "      <td>H</td>\n",
       "      <td>NaN</td>\n",
       "      <td>NaN</td>\n",
       "    </tr>\n",
       "    <tr>\n",
       "      <th>4</th>\n",
       "      <td>5</td>\n",
       "      <td>S</td>\n",
       "      <td>J</td>\n",
       "      <td>NaN</td>\n",
       "      <td>NaN</td>\n",
       "    </tr>\n",
       "  </tbody>\n",
       "</table>\n",
       "</div>"
      ],
      "text/plain": [
       "  id Value1_x Value2_x Value1_y Value2_y\n",
       "0  1        A        B      NaN      NaN\n",
       "1  2        C        D        K        L\n",
       "2  3        G        F        M        N\n",
       "3  4        I        H      NaN      NaN\n",
       "4  5        S        J      NaN      NaN"
      ]
     },
     "execution_count": 36,
     "metadata": {},
     "output_type": "execute_result"
    }
   ],
   "source": [
    "import pandas as pd\n",
    "dic1={'id':['1','2','3','4','5'],'Value1':['A','C','G','I','S'],\n",
    "      'Value2':['B','D','F','H','J']}\n",
    "dic2={'id':['2','3','6','7','8'],'Value1':['K','M','O','Q','S'],\n",
    "      'Value2':['L','N','P','R','T']}\n",
    "df1=pd.DataFrame(dic1)\n",
    "df2=pd.DataFrame(dic2)\n",
    "df3=pd.merge(df1,df2,on='id',how='left')\n",
    "df3"
   ]
  },
  {
   "cell_type": "markdown",
   "id": "5dc0e8c2",
   "metadata": {},
   "source": [
    "## 7.5 Joining on Index :-\n",
    "\n",
    "Sometimes you have to perform the join on the indexes or the row labels.\n",
    "\n"
   ]
  },
  {
   "cell_type": "code",
   "execution_count": 37,
   "id": "19139366",
   "metadata": {},
   "outputs": [
    {
     "data": {
      "text/html": [
       "<div>\n",
       "<style scoped>\n",
       "    .dataframe tbody tr th:only-of-type {\n",
       "        vertical-align: middle;\n",
       "    }\n",
       "\n",
       "    .dataframe tbody tr th {\n",
       "        vertical-align: top;\n",
       "    }\n",
       "\n",
       "    .dataframe thead th {\n",
       "        text-align: right;\n",
       "    }\n",
       "</style>\n",
       "<table border=\"1\" class=\"dataframe\">\n",
       "  <thead>\n",
       "    <tr style=\"text-align: right;\">\n",
       "      <th></th>\n",
       "      <th>id_x</th>\n",
       "      <th>Value1_x</th>\n",
       "      <th>Value2_x</th>\n",
       "      <th>id_y</th>\n",
       "      <th>Value1_y</th>\n",
       "      <th>Value2_y</th>\n",
       "    </tr>\n",
       "  </thead>\n",
       "  <tbody>\n",
       "    <tr>\n",
       "      <th>0</th>\n",
       "      <td>1</td>\n",
       "      <td>A</td>\n",
       "      <td>B</td>\n",
       "      <td>2</td>\n",
       "      <td>K</td>\n",
       "      <td>L</td>\n",
       "    </tr>\n",
       "    <tr>\n",
       "      <th>1</th>\n",
       "      <td>2</td>\n",
       "      <td>C</td>\n",
       "      <td>D</td>\n",
       "      <td>3</td>\n",
       "      <td>M</td>\n",
       "      <td>N</td>\n",
       "    </tr>\n",
       "    <tr>\n",
       "      <th>2</th>\n",
       "      <td>3</td>\n",
       "      <td>G</td>\n",
       "      <td>F</td>\n",
       "      <td>6</td>\n",
       "      <td>O</td>\n",
       "      <td>P</td>\n",
       "    </tr>\n",
       "    <tr>\n",
       "      <th>3</th>\n",
       "      <td>4</td>\n",
       "      <td>I</td>\n",
       "      <td>H</td>\n",
       "      <td>7</td>\n",
       "      <td>Q</td>\n",
       "      <td>R</td>\n",
       "    </tr>\n",
       "    <tr>\n",
       "      <th>4</th>\n",
       "      <td>5</td>\n",
       "      <td>S</td>\n",
       "      <td>J</td>\n",
       "      <td>8</td>\n",
       "      <td>S</td>\n",
       "      <td>T</td>\n",
       "    </tr>\n",
       "  </tbody>\n",
       "</table>\n",
       "</div>"
      ],
      "text/plain": [
       "  id_x Value1_x Value2_x id_y Value1_y Value2_y\n",
       "0    1        A        B    2        K        L\n",
       "1    2        C        D    3        M        N\n",
       "2    3        G        F    6        O        P\n",
       "3    4        I        H    7        Q        R\n",
       "4    5        S        J    8        S        T"
      ]
     },
     "execution_count": 37,
     "metadata": {},
     "output_type": "execute_result"
    }
   ],
   "source": [
    "import pandas as pd\n",
    "dic1={'id':['1','2','3','4','5'],'Value1':['A','C','G','I','S'],\n",
    "      'Value2':['B','D','F','H','J']}\n",
    "dic2={'id':['2','3','6','7','8'],'Value1':['K','M','O','Q','S'],\n",
    "      'Value2':['L','N','P','R','T']}\n",
    "df1=pd.DataFrame(dic1)\n",
    "df2=pd.DataFrame(dic2)\n",
    "df3=pd.merge(df1,df2,right_index=True,left_index=True,how='left')\n",
    "df3"
   ]
  },
  {
   "cell_type": "markdown",
   "id": "777cd451",
   "metadata": {},
   "source": [
    "## To save the DataFrame into csv file\n"
   ]
  },
  {
   "cell_type": "code",
   "execution_count": 38,
   "id": "b2316def",
   "metadata": {},
   "outputs": [
    {
     "data": {
      "text/html": [
       "<div>\n",
       "<style scoped>\n",
       "    .dataframe tbody tr th:only-of-type {\n",
       "        vertical-align: middle;\n",
       "    }\n",
       "\n",
       "    .dataframe tbody tr th {\n",
       "        vertical-align: top;\n",
       "    }\n",
       "\n",
       "    .dataframe thead th {\n",
       "        text-align: right;\n",
       "    }\n",
       "</style>\n",
       "<table border=\"1\" class=\"dataframe\">\n",
       "  <thead>\n",
       "    <tr style=\"text-align: right;\">\n",
       "      <th></th>\n",
       "      <th>Name</th>\n",
       "      <th>Subject</th>\n",
       "      <th>Mark_Suresh</th>\n",
       "      <th>Mark_Akash</th>\n",
       "      <th>Mark_Naveen</th>\n",
       "      <th>Mark_Aadi</th>\n",
       "      <th>Mark_Anamika</th>\n",
       "    </tr>\n",
       "  </thead>\n",
       "  <tbody>\n",
       "    <tr>\n",
       "      <th>0</th>\n",
       "      <td>Suresh</td>\n",
       "      <td>Hindi</td>\n",
       "      <td>78</td>\n",
       "      <td>79</td>\n",
       "      <td>98</td>\n",
       "      <td>67</td>\n",
       "      <td>86</td>\n",
       "    </tr>\n",
       "    <tr>\n",
       "      <th>1</th>\n",
       "      <td>Akash</td>\n",
       "      <td>English</td>\n",
       "      <td>90</td>\n",
       "      <td>85</td>\n",
       "      <td>90</td>\n",
       "      <td>89</td>\n",
       "      <td>78</td>\n",
       "    </tr>\n",
       "    <tr>\n",
       "      <th>2</th>\n",
       "      <td>Naveen</td>\n",
       "      <td>Maths</td>\n",
       "      <td>53</td>\n",
       "      <td>89</td>\n",
       "      <td>79</td>\n",
       "      <td>96</td>\n",
       "      <td>56</td>\n",
       "    </tr>\n",
       "    <tr>\n",
       "      <th>3</th>\n",
       "      <td>Aadi</td>\n",
       "      <td>Science</td>\n",
       "      <td>82</td>\n",
       "      <td>86</td>\n",
       "      <td>86</td>\n",
       "      <td>86</td>\n",
       "      <td>98</td>\n",
       "    </tr>\n",
       "    <tr>\n",
       "      <th>4</th>\n",
       "      <td>Anamika</td>\n",
       "      <td>Social Science</td>\n",
       "      <td>85</td>\n",
       "      <td>78</td>\n",
       "      <td>97</td>\n",
       "      <td>78</td>\n",
       "      <td>86</td>\n",
       "    </tr>\n",
       "  </tbody>\n",
       "</table>\n",
       "</div>"
      ],
      "text/plain": [
       "      Name         Subject  Mark_Suresh  Mark_Akash  Mark_Naveen  Mark_Aadi  \\\n",
       "0   Suresh           Hindi           78          79           98         67   \n",
       "1    Akash         English           90          85           90         89   \n",
       "2   Naveen           Maths           53          89           79         96   \n",
       "3     Aadi         Science           82          86           86         86   \n",
       "4  Anamika  Social Science           85          78           97         78   \n",
       "\n",
       "   Mark_Anamika  \n",
       "0            86  \n",
       "1            78  \n",
       "2            56  \n",
       "3            98  \n",
       "4            86  "
      ]
     },
     "execution_count": 38,
     "metadata": {},
     "output_type": "execute_result"
    }
   ],
   "source": [
    "import pandas as pd\n",
    "dic={'Name':['Suresh','Akash','Naveen','Aadi','Anamika'],'Subject':\n",
    "     ['Hindi','English','Maths','Science','Social Science'],\n",
    "   'Mark_Suresh':[78,90,53,82,85],'Mark_Akash':[79,85,89,86,78],'Mark_Naveen':\n",
    "   [98,90,79,86,97],'Mark_Aadi':[67,89,96,86,78],'Mark_Anamika':[86,78,56,98,86]}\n",
    "df1=pd.DataFrame(dic)\n",
    "df1"
   ]
  },
  {
   "cell_type": "code",
   "execution_count": 39,
   "id": "16c1ec81",
   "metadata": {},
   "outputs": [],
   "source": [
    "# To Save the dataframe in the CSV file\n",
    "df1.to_csv('Dr. Indrajeet Sir Python 3rd sem Lab.csv')"
   ]
  },
  {
   "cell_type": "markdown",
   "id": "727bc79c",
   "metadata": {},
   "source": [
    "# 8.Grouping data\n",
    "Grouping is to provide a mapping of labels to group names.Pandas datasets can be split into any of their object.\n",
    "\n",
    "Syntax\n",
    "\n",
    "obj.groupby(key)\n",
    "\n",
    "obj.groupby(key, axis=1)\n",
    "\n",
    "obj.groupby([key1, key2])"
   ]
  },
  {
   "cell_type": "code",
   "execution_count": 40,
   "id": "f3546b8a",
   "metadata": {},
   "outputs": [
    {
     "data": {
      "text/html": [
       "<div>\n",
       "<style scoped>\n",
       "    .dataframe tbody tr th:only-of-type {\n",
       "        vertical-align: middle;\n",
       "    }\n",
       "\n",
       "    .dataframe tbody tr th {\n",
       "        vertical-align: top;\n",
       "    }\n",
       "\n",
       "    .dataframe thead th {\n",
       "        text-align: right;\n",
       "    }\n",
       "</style>\n",
       "<table border=\"1\" class=\"dataframe\">\n",
       "  <thead>\n",
       "    <tr style=\"text-align: right;\">\n",
       "      <th></th>\n",
       "      <th>Name</th>\n",
       "      <th>Age</th>\n",
       "      <th>Address</th>\n",
       "      <th>Qualification</th>\n",
       "    </tr>\n",
       "  </thead>\n",
       "  <tbody>\n",
       "    <tr>\n",
       "      <th>0</th>\n",
       "      <td>Jai</td>\n",
       "      <td>27</td>\n",
       "      <td>Nagpur</td>\n",
       "      <td>Msc</td>\n",
       "    </tr>\n",
       "    <tr>\n",
       "      <th>1</th>\n",
       "      <td>Anuj</td>\n",
       "      <td>24</td>\n",
       "      <td>Kanpur</td>\n",
       "      <td>MA</td>\n",
       "    </tr>\n",
       "    <tr>\n",
       "      <th>2</th>\n",
       "      <td>Jai</td>\n",
       "      <td>22</td>\n",
       "      <td>Allahabad</td>\n",
       "      <td>MCA</td>\n",
       "    </tr>\n",
       "    <tr>\n",
       "      <th>3</th>\n",
       "      <td>Princi</td>\n",
       "      <td>32</td>\n",
       "      <td>Kannuaj</td>\n",
       "      <td>Phd</td>\n",
       "    </tr>\n",
       "    <tr>\n",
       "      <th>4</th>\n",
       "      <td>Gaurav</td>\n",
       "      <td>33</td>\n",
       "      <td>Jaunpur</td>\n",
       "      <td>B.Tech</td>\n",
       "    </tr>\n",
       "    <tr>\n",
       "      <th>5</th>\n",
       "      <td>Anuj</td>\n",
       "      <td>36</td>\n",
       "      <td>Kanpur</td>\n",
       "      <td>B.com</td>\n",
       "    </tr>\n",
       "    <tr>\n",
       "      <th>6</th>\n",
       "      <td>Princi</td>\n",
       "      <td>27</td>\n",
       "      <td>Allahabad</td>\n",
       "      <td>Msc</td>\n",
       "    </tr>\n",
       "    <tr>\n",
       "      <th>7</th>\n",
       "      <td>Abhi</td>\n",
       "      <td>32</td>\n",
       "      <td>Aligarh</td>\n",
       "      <td>MA</td>\n",
       "    </tr>\n",
       "  </tbody>\n",
       "</table>\n",
       "</div>"
      ],
      "text/plain": [
       "     Name  Age    Address Qualification\n",
       "0     Jai   27     Nagpur           Msc\n",
       "1    Anuj   24     Kanpur            MA\n",
       "2     Jai   22  Allahabad           MCA\n",
       "3  Princi   32    Kannuaj           Phd\n",
       "4  Gaurav   33    Jaunpur        B.Tech\n",
       "5    Anuj   36     Kanpur         B.com\n",
       "6  Princi   27  Allahabad           Msc\n",
       "7    Abhi   32    Aligarh            MA"
      ]
     },
     "execution_count": 40,
     "metadata": {},
     "output_type": "execute_result"
    }
   ],
   "source": [
    "# importing pandas module\n",
    "import pandas as pd \n",
    " \n",
    "# Define a dictionary containing employee data \n",
    "data1 = {'Name':['Jai', 'Anuj', 'Jai', 'Princi', \n",
    "                 'Gaurav', 'Anuj', 'Princi', 'Abhi'], \n",
    "        'Age':[27, 24, 22, 32, \n",
    "               33, 36, 27, 32], \n",
    "        'Address':['Nagpur', 'Kanpur', 'Allahabad', 'Kannuaj',\n",
    "                   'Jaunpur', 'Kanpur', 'Allahabad', 'Aligarh'], \n",
    "        'Qualification':['Msc', 'MA', 'MCA', 'Phd',\n",
    "                         'B.Tech', 'B.com', 'Msc', 'MA']} \n",
    "   \n",
    " \n",
    "# Convert the dictionary into DataFrame  \n",
    "df = pd.DataFrame(data1)\n",
    " \n",
    "df \n"
   ]
  },
  {
   "cell_type": "code",
   "execution_count": 41,
   "id": "c5654fa1",
   "metadata": {},
   "outputs": [
    {
     "name": "stdout",
     "output_type": "stream",
     "text": [
      "{'Abhi': [7], 'Anuj': [1, 5], 'Gaurav': [4], 'Jai': [0, 2], 'Princi': [3, 6]}\n"
     ]
    }
   ],
   "source": [
    "# using groupby function \n",
    "# with one key\n",
    "df.groupby('Name')\n",
    "print(df.groupby('Name').groups)"
   ]
  },
  {
   "cell_type": "code",
   "execution_count": 42,
   "id": "e1c5c720",
   "metadata": {},
   "outputs": [
    {
     "name": "stdout",
     "output_type": "stream",
     "text": [
      "{'B.Tech': [4], 'B.com': [5], 'MA': [1, 7], 'MCA': [2], 'Msc': [0, 6], 'Phd': [3]}\n"
     ]
    }
   ],
   "source": [
    "# using groupby function \n",
    "# with one key\n",
    "df.groupby('Qualification')\n",
    "print(df.groupby('Qualification').groups)"
   ]
  },
  {
   "cell_type": "code",
   "execution_count": 43,
   "id": "5240117a",
   "metadata": {},
   "outputs": [
    {
     "data": {
      "text/html": [
       "<div>\n",
       "<style scoped>\n",
       "    .dataframe tbody tr th:only-of-type {\n",
       "        vertical-align: middle;\n",
       "    }\n",
       "\n",
       "    .dataframe tbody tr th {\n",
       "        vertical-align: top;\n",
       "    }\n",
       "\n",
       "    .dataframe thead th {\n",
       "        text-align: right;\n",
       "    }\n",
       "</style>\n",
       "<table border=\"1\" class=\"dataframe\">\n",
       "  <thead>\n",
       "    <tr style=\"text-align: right;\">\n",
       "      <th></th>\n",
       "      <th>Name</th>\n",
       "      <th>Age</th>\n",
       "      <th>Address</th>\n",
       "    </tr>\n",
       "    <tr>\n",
       "      <th>Qualification</th>\n",
       "      <th></th>\n",
       "      <th></th>\n",
       "      <th></th>\n",
       "    </tr>\n",
       "  </thead>\n",
       "  <tbody>\n",
       "    <tr>\n",
       "      <th>B.Tech</th>\n",
       "      <td>Gaurav</td>\n",
       "      <td>33</td>\n",
       "      <td>Jaunpur</td>\n",
       "    </tr>\n",
       "    <tr>\n",
       "      <th>B.com</th>\n",
       "      <td>Anuj</td>\n",
       "      <td>36</td>\n",
       "      <td>Kanpur</td>\n",
       "    </tr>\n",
       "    <tr>\n",
       "      <th>MA</th>\n",
       "      <td>Anuj</td>\n",
       "      <td>24</td>\n",
       "      <td>Kanpur</td>\n",
       "    </tr>\n",
       "    <tr>\n",
       "      <th>MCA</th>\n",
       "      <td>Jai</td>\n",
       "      <td>22</td>\n",
       "      <td>Allahabad</td>\n",
       "    </tr>\n",
       "    <tr>\n",
       "      <th>Msc</th>\n",
       "      <td>Jai</td>\n",
       "      <td>27</td>\n",
       "      <td>Nagpur</td>\n",
       "    </tr>\n",
       "    <tr>\n",
       "      <th>Phd</th>\n",
       "      <td>Princi</td>\n",
       "      <td>32</td>\n",
       "      <td>Kannuaj</td>\n",
       "    </tr>\n",
       "  </tbody>\n",
       "</table>\n",
       "</div>"
      ],
      "text/plain": [
       "                 Name  Age    Address\n",
       "Qualification                        \n",
       "B.Tech         Gaurav   33    Jaunpur\n",
       "B.com            Anuj   36     Kanpur\n",
       "MA               Anuj   24     Kanpur\n",
       "MCA               Jai   22  Allahabad\n",
       "Msc               Jai   27     Nagpur\n",
       "Phd            Princi   32    Kannuaj"
      ]
     },
     "execution_count": 43,
     "metadata": {},
     "output_type": "execute_result"
    }
   ],
   "source": [
    "# applying groupby() function to group the data on Name value.\n",
    "gk=df.groupby('Qualification')\n",
    "gk.first()"
   ]
  },
  {
   "cell_type": "code",
   "execution_count": 44,
   "id": "2f847952",
   "metadata": {},
   "outputs": [
    {
     "name": "stdout",
     "output_type": "stream",
     "text": [
      "B.Tech\n",
      "     Name  Age  Address Qualification\n",
      "4  Gaurav   33  Jaunpur        B.Tech\n",
      "\n",
      "B.com\n",
      "   Name  Age Address Qualification\n",
      "5  Anuj   36  Kanpur         B.com\n",
      "\n",
      "MA\n",
      "   Name  Age  Address Qualification\n",
      "1  Anuj   24   Kanpur            MA\n",
      "7  Abhi   32  Aligarh            MA\n",
      "\n",
      "MCA\n",
      "  Name  Age    Address Qualification\n",
      "2  Jai   22  Allahabad           MCA\n",
      "\n",
      "Msc\n",
      "     Name  Age    Address Qualification\n",
      "0     Jai   27     Nagpur           Msc\n",
      "6  Princi   27  Allahabad           Msc\n",
      "\n",
      "Phd\n",
      "     Name  Age  Address Qualification\n",
      "3  Princi   32  Kannuaj           Phd\n",
      "\n"
     ]
    }
   ],
   "source": [
    "# iterating an element of group\n",
    "grp=df.groupby('Qualification')\n",
    "for name,group in grp:\n",
    "    print(name)\n",
    "    print(group)\n",
    "    print()"
   ]
  },
  {
   "cell_type": "code",
   "execution_count": 47,
   "id": "1965da5a",
   "metadata": {},
   "outputs": [
    {
     "name": "stdout",
     "output_type": "stream",
     "text": [
      "('Abhi', 'MA')\n",
      "   Name  Age  Address Qualification\n",
      "7  Abhi   32  Aligarh            MA\n",
      "('Anuj', 'B.com')\n",
      "   Name  Age Address Qualification\n",
      "5  Anuj   36  Kanpur         B.com\n",
      "('Anuj', 'MA')\n",
      "   Name  Age Address Qualification\n",
      "1  Anuj   24  Kanpur            MA\n",
      "('Gaurav', 'B.Tech')\n",
      "     Name  Age  Address Qualification\n",
      "4  Gaurav   33  Jaunpur        B.Tech\n",
      "('Jai', 'MCA')\n",
      "  Name  Age    Address Qualification\n",
      "2  Jai   22  Allahabad           MCA\n",
      "('Jai', 'Msc')\n",
      "  Name  Age Address Qualification\n",
      "0  Jai   27  Nagpur           Msc\n",
      "('Princi', 'Msc')\n",
      "     Name  Age    Address Qualification\n",
      "6  Princi   27  Allahabad           Msc\n",
      "('Princi', 'Phd')\n",
      "     Name  Age  Address Qualification\n",
      "3  Princi   32  Kannuaj           Phd\n"
     ]
    }
   ],
   "source": [
    "# To iterate the multiple column that containg multiple keys\n",
    "grp=df.groupby(['Name','Qualification'])\n",
    "for name,group in grp:\n",
    "    print(name)\n",
    "    print(group)\n",
    "   # print()"
   ]
  },
  {
   "cell_type": "markdown",
   "id": "7f158d97",
   "metadata": {},
   "source": [
    "# 9.Working with date and time using Pandas\n",
    "Encountering time series data is very usual."
   ]
  },
  {
   "cell_type": "code",
   "execution_count": 48,
   "id": "ecd907d0",
   "metadata": {},
   "outputs": [
    {
     "name": "stdout",
     "output_type": "stream",
     "text": [
      "2004-03-02\n",
      "<class 'datetime.date'>\n"
     ]
    }
   ],
   "source": [
    "from datetime import date\n",
    "d=date(2004,3,2)\n",
    "print(d)\n",
    "print(type(d))"
   ]
  },
  {
   "cell_type": "markdown",
   "id": "d5af80c3",
   "metadata": {},
   "source": [
    "## 9.1 Year,Month,Day extraction"
   ]
  },
  {
   "cell_type": "code",
   "execution_count": 49,
   "id": "0e4abe3f",
   "metadata": {},
   "outputs": [
    {
     "name": "stdout",
     "output_type": "stream",
     "text": [
      "2023\n",
      "10\n",
      "4\n"
     ]
    }
   ],
   "source": [
    "import pandas as pd\n",
    " \n",
    "# Creating a Timestamp object\n",
    "timestamp = pd.Timestamp('2023-10-04 15:30:00')\n",
    " \n",
    "# Extracting the year from the Timestamp\n",
    "year = timestamp.year\n",
    " \n",
    "# Printing the extracted year\n",
    "print(year)\n",
    " \n",
    "# Extracting the month from the Timestamp\n",
    "month = timestamp.month\n",
    " \n",
    "# Printing the extracted month\n",
    "print(month)\n",
    " \n",
    "# Extracting the day from the Timestamp\n",
    "day = timestamp.day\n",
    "print(day)"
   ]
  },
  {
   "cell_type": "markdown",
   "id": "91aebfdc",
   "metadata": {},
   "source": [
    "## 9.2 Time, Weekday, Quarter extraction"
   ]
  },
  {
   "cell_type": "code",
   "execution_count": 50,
   "id": "caf115c9",
   "metadata": {},
   "outputs": [
    {
     "name": "stdout",
     "output_type": "stream",
     "text": [
      "15\n",
      "30\n",
      "2\n",
      "4\n"
     ]
    }
   ],
   "source": [
    "import pandas as pd\n",
    "# Extracting the hour from the Timestamp\n",
    "hour = timestamp.hour\n",
    " \n",
    "# Printing the extracted hour\n",
    "print(hour)\n",
    " \n",
    "# Extracting the minute from the Timestamp\n",
    "minute = timestamp.minute\n",
    " \n",
    "# Printing the extracted minute\n",
    "print(minute)\n",
    "# Extracting the weekday from the Timestamp\n",
    "weekday = timestamp.weekday()\n",
    " \n",
    "# Printing the extracted weekday\n",
    "print(weekday)\n",
    " \n",
    "# Extracting the quarter from the Timestamp\n",
    "quarter = timestamp.quarter\n",
    " \n",
    "# Printing the extracted quarter\n",
    "print(quarter)"
   ]
  },
  {
   "cell_type": "markdown",
   "id": "cbda14bb",
   "metadata": {},
   "source": [
    "## 9.3 UTC and time zone conversion:\n",
    "Convert between UTC (Coordinated Universal Time) and local time zones.\n"
   ]
  },
  {
   "cell_type": "code",
   "execution_count": 51,
   "id": "8a8d2130",
   "metadata": {},
   "outputs": [
    {
     "name": "stdout",
     "output_type": "stream",
     "text": [
      "Original timestamp: 2024-10-14 08:00:00\n",
      "Localized timestamp (Asia/Kolkata): 2024-10-14 08:00:00+05:30\n",
      "Converted to UTC: 2024-10-14 02:30:00+00:00\n"
     ]
    }
   ],
   "source": [
    "import pandas as pd\n",
    "\n",
    "# Example timestamp\n",
    "timestamp = pd.Timestamp('2024-10-14 08:00:00')\n",
    "\n",
    "# Localize to a specific time zone (e.g., 'Asia/Kolkata')\n",
    "localized_timestamp = timestamp.tz_localize('Asia/Kolkata')\n",
    "\n",
    "# Convert to another time zone (e.g., 'UTC')\n",
    "converted_timestamp = localized_timestamp.tz_convert('UTC')\n",
    "\n",
    "print(\"Original timestamp:\", timestamp)\n",
    "print(\"Localized timestamp (Asia/Kolkata):\", localized_timestamp)\n",
    "print(\"Converted to UTC:\", converted_timestamp)\n"
   ]
  },
  {
   "cell_type": "markdown",
   "id": "0066dbbe",
   "metadata": {},
   "source": [
    "## 9.4 To create dataframe date and time with working in  pandas\n",
    "\n",
    "Step-1: Create a dates dataframe\n",
    "\n"
   ]
  },
  {
   "cell_type": "code",
   "execution_count": 52,
   "id": "b479714d",
   "metadata": {},
   "outputs": [
    {
     "data": {
      "text/plain": [
       "DatetimeIndex(['2011-01-01 00:00:00', '2011-01-01 01:00:00',\n",
       "               '2011-01-01 02:00:00', '2011-01-01 03:00:00',\n",
       "               '2011-01-01 04:00:00', '2011-01-01 05:00:00',\n",
       "               '2011-01-01 06:00:00', '2011-01-01 07:00:00',\n",
       "               '2011-01-01 08:00:00', '2011-01-01 09:00:00'],\n",
       "              dtype='datetime64[ns]', freq='H')"
      ]
     },
     "execution_count": 52,
     "metadata": {},
     "output_type": "execute_result"
    }
   ],
   "source": [
    "import pandas as pd\n",
    " \n",
    "# Create dates dataframe with frequency  \n",
    "data = pd.date_range('1/1/2011', periods = 10, freq ='H')\n",
    " \n",
    "data"
   ]
  },
  {
   "cell_type": "markdown",
   "id": "303bfee9",
   "metadata": {},
   "source": [
    "Step-2: Create range of dates and show basic features "
   ]
  },
  {
   "cell_type": "code",
   "execution_count": 53,
   "id": "912edec3",
   "metadata": {},
   "outputs": [
    {
     "data": {
      "text/plain": [
       "(12, 2024)"
      ]
     },
     "execution_count": 53,
     "metadata": {},
     "output_type": "execute_result"
    }
   ],
   "source": [
    "import pandas as pd\n",
    "from datetime import datetime\n",
    "\n",
    "# Create date and time with dataframe\n",
    "data = pd.date_range('1/1/2011', periods = 10, freq ='H')\n",
    " \n",
    "x = datetime.now()\n",
    "x.month, x.year"
   ]
  },
  {
   "cell_type": "markdown",
   "id": "dcf95c5e",
   "metadata": {},
   "source": [
    "Step-3: Divide a given date into features  \n",
    "\n",
    "pandas.Series.dt.year returns the year of the date time. \n",
    "\n",
    "pandas.Series.dt.month returns the month of the date time.\n",
    "\n",
    "pandas.Series.dt.day returns the day of the date time. \n",
    "\n",
    "pandas.Series.dt.hour returns the hour of the date time.\n",
    "\n",
    "pandas.Series.dt.minute returns the minute of the date time."
   ]
  },
  {
   "cell_type": "code",
   "execution_count": 54,
   "id": "873ba750",
   "metadata": {},
   "outputs": [
    {
     "data": {
      "text/html": [
       "<div>\n",
       "<style scoped>\n",
       "    .dataframe tbody tr th:only-of-type {\n",
       "        vertical-align: middle;\n",
       "    }\n",
       "\n",
       "    .dataframe tbody tr th {\n",
       "        vertical-align: top;\n",
       "    }\n",
       "\n",
       "    .dataframe thead th {\n",
       "        text-align: right;\n",
       "    }\n",
       "</style>\n",
       "<table border=\"1\" class=\"dataframe\">\n",
       "  <thead>\n",
       "    <tr style=\"text-align: right;\">\n",
       "      <th></th>\n",
       "      <th>date</th>\n",
       "      <th>year</th>\n",
       "      <th>month</th>\n",
       "      <th>day</th>\n",
       "      <th>hour</th>\n",
       "      <th>minute</th>\n",
       "    </tr>\n",
       "  </thead>\n",
       "  <tbody>\n",
       "    <tr>\n",
       "      <th>0</th>\n",
       "      <td>2011-01-01 00:00:00</td>\n",
       "      <td>2011</td>\n",
       "      <td>1</td>\n",
       "      <td>1</td>\n",
       "      <td>0</td>\n",
       "      <td>0</td>\n",
       "    </tr>\n",
       "    <tr>\n",
       "      <th>1</th>\n",
       "      <td>2011-01-01 01:00:00</td>\n",
       "      <td>2011</td>\n",
       "      <td>1</td>\n",
       "      <td>1</td>\n",
       "      <td>1</td>\n",
       "      <td>0</td>\n",
       "    </tr>\n",
       "    <tr>\n",
       "      <th>2</th>\n",
       "      <td>2011-01-01 02:00:00</td>\n",
       "      <td>2011</td>\n",
       "      <td>1</td>\n",
       "      <td>1</td>\n",
       "      <td>2</td>\n",
       "      <td>0</td>\n",
       "    </tr>\n",
       "  </tbody>\n",
       "</table>\n",
       "</div>"
      ],
      "text/plain": [
       "                 date  year  month  day  hour  minute\n",
       "0 2011-01-01 00:00:00  2011      1    1     0       0\n",
       "1 2011-01-01 01:00:00  2011      1    1     1       0\n",
       "2 2011-01-01 02:00:00  2011      1    1     2       0"
      ]
     },
     "execution_count": 54,
     "metadata": {},
     "output_type": "execute_result"
    }
   ],
   "source": [
    "# Create date and time with dataframe\n",
    "rng = pd.DataFrame()\n",
    "rng['date'] = pd.date_range('1/1/2011', periods = 72, freq ='H')\n",
    " \n",
    "# Print the dates in dd-mm-yy format\n",
    "rng[:5]\n",
    " \n",
    "# Create features for year, month, day, hour, and minute\n",
    "rng['year'] = rng['date'].dt.year\n",
    "rng['month'] = rng['date'].dt.month\n",
    "rng['day'] = rng['date'].dt.day\n",
    "rng['hour'] = rng['date'].dt.hour\n",
    "rng['minute'] = rng['date'].dt.minute\n",
    " \n",
    "# Print the dates divided into features\n",
    "rng.head(3)"
   ]
  },
  {
   "cell_type": "code",
   "execution_count": null,
   "id": "972c5a98",
   "metadata": {},
   "outputs": [],
   "source": []
  }
 ],
 "metadata": {
  "kernelspec": {
   "display_name": "Python 3 (ipykernel)",
   "language": "python",
   "name": "python3"
  },
  "language_info": {
   "codemirror_mode": {
    "name": "ipython",
    "version": 3
   },
   "file_extension": ".py",
   "mimetype": "text/x-python",
   "name": "python",
   "nbconvert_exporter": "python",
   "pygments_lexer": "ipython3",
   "version": "3.11.5"
  }
 },
 "nbformat": 4,
 "nbformat_minor": 5
}
